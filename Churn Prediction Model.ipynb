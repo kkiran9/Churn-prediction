{
 "cells": [
  {
   "cell_type": "code",
   "execution_count": 5,
   "metadata": {
    "collapsed": true
   },
   "outputs": [],
   "source": [
    "import pandas as pd\n",
    "import numpy as np\n",
    "import seaborn as sns\n",
    "import matplotlib.pyplot as plt\n",
    "from IPython.display import display # Allows the use of display() for DataFrames\n",
    "import datetime\n",
    "%matplotlib inline\n",
    "np.set_printoptions(suppress=True)"
   ]
  },
  {
   "cell_type": "code",
   "execution_count": 98,
   "metadata": {
    "scrolled": true
   },
   "outputs": [
    {
     "name": "stdout",
     "output_type": "stream",
     "text": [
      "         amount\n",
      "count    1.934M\n",
      "mean    301.837\n",
      "std      1.122k\n",
      "min    -605.167\n",
      "25%      15.327\n",
      "50%      66.135\n",
      "75%     234.994\n",
      "max    307.370k\n",
      "<class 'pandas.core.frame.DataFrame'>\n",
      "RangeIndex: 1934135 entries, 0 to 1934134\n",
      "Data columns (total 3 columns):\n",
      "account    object\n",
      "date       datetime64[ns]\n",
      "amount     float64\n",
      "dtypes: datetime64[ns](1), float64(1), object(1)\n",
      "memory usage: 44.3+ MB\n",
      "None\n",
      "        count\n",
      "count  1.934M\n",
      "mean   41.459\n",
      "std    74.995\n",
      "min    10.000\n",
      "25%    15.000\n",
      "50%    24.000\n",
      "75%    44.000\n",
      "max    5.643k\n",
      "<class 'pandas.core.frame.DataFrame'>\n",
      "RangeIndex: 1934028 entries, 0 to 1934027\n",
      "Data columns (total 3 columns):\n",
      "account    object\n",
      "date       datetime64[ns]\n",
      "count      int64\n",
      "dtypes: datetime64[ns](1), int64(1), object(1)\n",
      "memory usage: 44.3+ MB\n",
      "None\n"
     ]
    }
   ],
   "source": [
    "spend = pd.read_csv(\"spend.csv\")\n",
    "count = pd.read_csv(\"counts.csv\")\n",
    "spend['date'] = pd.to_datetime(spend['date'],unit='s')\n",
    "count['date'] = pd.to_datetime(count['date'])\n",
    "print spend.describe()\n",
    "print spend.info()\n",
    "print count.describe()\n",
    "print count.info()"
   ]
  },
  {
   "cell_type": "code",
   "execution_count": 99,
   "metadata": {},
   "outputs": [
    {
     "name": "stdout",
     "output_type": "stream",
     "text": [
      "                            account                date   amount    new_date  \\\n",
      "0  5e0a5eb5575517efdddb2799c90e2e9b 2017-08-16 00:00:00   15.144  2017-08-16   \n",
      "1  a04e063493c55bc6cecd9056712e9e47 1973-04-05 07:06:40  730.070  1973-04-05   \n",
      "2  ff6cc8cadcb7457f9ddb2dd238a13733 2017-08-16 00:00:00   3.651k  2017-08-16   \n",
      "3  324a05f1f917b8a0af83a54e55a1ef63 2017-08-16 00:00:00  113.219  2017-08-16   \n",
      "4  b9abff45dc08172b556cb10b7c3c2252 2017-08-16 00:00:00  697.224  2017-08-16   \n",
      "\n",
      "   new_time  \n",
      "0  00:00:00  \n",
      "1  07:06:40  \n",
      "2  00:00:00  \n",
      "3  00:00:00  \n",
      "4  00:00:00  \n",
      "                            account       date  count    new_date\n",
      "0  5e0a5eb5575517efdddb2799c90e2e9b 2017-08-16     56  2017-08-16\n",
      "1  a04e063493c55bc6cecd9056712e9e47 2017-08-16    180  2017-08-16\n",
      "2  ff6cc8cadcb7457f9ddb2dd238a13733 2017-08-16    432  2017-08-16\n",
      "3  324a05f1f917b8a0af83a54e55a1ef63 2017-08-16     50  2017-08-16\n",
      "4  b9abff45dc08172b556cb10b7c3c2252 2017-08-16    135  2017-08-16\n"
     ]
    }
   ],
   "source": [
    "spend['new_date'] = [d.date() for d in spend['date']]\n",
    "spend['new_time'] = [d.time() for d in spend['date']]\n",
    "print spend.head()\n",
    "count['new_date'] = [d.date() for d in count['date']]\n",
    "print count.head()"
   ]
  },
  {
   "cell_type": "code",
   "execution_count": 61,
   "metadata": {
    "collapsed": true
   },
   "outputs": [],
   "source": [
    "spend.drop(['year_quarter'],inplace=True,axis=1)\n",
    "spend.drop(['date'],inplace=True,axis=1)\n",
    "count.drop(['date'],inplace=True,axis=1)\n",
    "print spend.isnull().sum()\n",
    "print count.isnull().sum()"
   ]
  },
  {
   "cell_type": "code",
   "execution_count": 405,
   "metadata": {
    "scrolled": true
   },
   "outputs": [
    {
     "data": {
      "text/html": [
       "<div>\n",
       "<style>\n",
       "    .dataframe thead tr:only-child th {\n",
       "        text-align: right;\n",
       "    }\n",
       "\n",
       "    .dataframe thead th {\n",
       "        text-align: left;\n",
       "    }\n",
       "\n",
       "    .dataframe tbody tr th {\n",
       "        vertical-align: top;\n",
       "    }\n",
       "</style>\n",
       "<table border=\"1\" class=\"dataframe\">\n",
       "  <thead>\n",
       "    <tr style=\"text-align: right;\">\n",
       "      <th></th>\n",
       "      <th>account</th>\n",
       "      <th>amount</th>\n",
       "      <th>new_date</th>\n",
       "      <th>new_time</th>\n",
       "      <th>year</th>\n",
       "      <th>month</th>\n",
       "      <th>day</th>\n",
       "      <th>quarter</th>\n",
       "      <th>year_month</th>\n",
       "    </tr>\n",
       "  </thead>\n",
       "  <tbody>\n",
       "    <tr>\n",
       "      <th>0</th>\n",
       "      <td>5e0a5eb5575517efdddb2799c90e2e9b</td>\n",
       "      <td>15.144</td>\n",
       "      <td>2017-08-16</td>\n",
       "      <td>00:00:00</td>\n",
       "      <td>2017</td>\n",
       "      <td>8</td>\n",
       "      <td>16</td>\n",
       "      <td>3</td>\n",
       "      <td>2017008</td>\n",
       "    </tr>\n",
       "    <tr>\n",
       "      <th>1</th>\n",
       "      <td>a04e063493c55bc6cecd9056712e9e47</td>\n",
       "      <td>730.070</td>\n",
       "      <td>1973-04-05</td>\n",
       "      <td>07:06:40</td>\n",
       "      <td>1973</td>\n",
       "      <td>4</td>\n",
       "      <td>5</td>\n",
       "      <td>2</td>\n",
       "      <td>1973004</td>\n",
       "    </tr>\n",
       "    <tr>\n",
       "      <th>2</th>\n",
       "      <td>ff6cc8cadcb7457f9ddb2dd238a13733</td>\n",
       "      <td>3.651k</td>\n",
       "      <td>2017-08-16</td>\n",
       "      <td>00:00:00</td>\n",
       "      <td>2017</td>\n",
       "      <td>8</td>\n",
       "      <td>16</td>\n",
       "      <td>3</td>\n",
       "      <td>2017008</td>\n",
       "    </tr>\n",
       "    <tr>\n",
       "      <th>3</th>\n",
       "      <td>324a05f1f917b8a0af83a54e55a1ef63</td>\n",
       "      <td>113.219</td>\n",
       "      <td>2017-08-16</td>\n",
       "      <td>00:00:00</td>\n",
       "      <td>2017</td>\n",
       "      <td>8</td>\n",
       "      <td>16</td>\n",
       "      <td>3</td>\n",
       "      <td>2017008</td>\n",
       "    </tr>\n",
       "    <tr>\n",
       "      <th>4</th>\n",
       "      <td>b9abff45dc08172b556cb10b7c3c2252</td>\n",
       "      <td>697.224</td>\n",
       "      <td>2017-08-16</td>\n",
       "      <td>00:00:00</td>\n",
       "      <td>2017</td>\n",
       "      <td>8</td>\n",
       "      <td>16</td>\n",
       "      <td>3</td>\n",
       "      <td>2017008</td>\n",
       "    </tr>\n",
       "  </tbody>\n",
       "</table>\n",
       "</div>"
      ],
      "text/plain": [
       "                            account   amount    new_date  new_time  year  \\\n",
       "0  5e0a5eb5575517efdddb2799c90e2e9b   15.144  2017-08-16  00:00:00  2017   \n",
       "1  a04e063493c55bc6cecd9056712e9e47  730.070  1973-04-05  07:06:40  1973   \n",
       "2  ff6cc8cadcb7457f9ddb2dd238a13733   3.651k  2017-08-16  00:00:00  2017   \n",
       "3  324a05f1f917b8a0af83a54e55a1ef63  113.219  2017-08-16  00:00:00  2017   \n",
       "4  b9abff45dc08172b556cb10b7c3c2252  697.224  2017-08-16  00:00:00  2017   \n",
       "\n",
       "   month  day  quarter  year_month  \n",
       "0      8   16        3     2017008  \n",
       "1      4    5        2     1973004  \n",
       "2      8   16        3     2017008  \n",
       "3      8   16        3     2017008  \n",
       "4      8   16        3     2017008  "
      ]
     },
     "execution_count": 405,
     "metadata": {},
     "output_type": "execute_result"
    }
   ],
   "source": [
    "spend[\"year\"] = pd.DatetimeIndex(spend[\"new_date\"]).year\n",
    "spend[\"month\"] = pd.DatetimeIndex(spend[\"new_date\"]).month\n",
    "spend[\"day\"] = pd.DatetimeIndex(spend[\"new_date\"]).day\n",
    "spend[\"quarter\"] = pd.DatetimeIndex(spend[\"new_date\"]).quarter\n",
    "spend[\"year_month\"] = spend['new_date'].map(lambda x: 1000*x.year + x.month)\n",
    "spend.head()"
   ]
  },
  {
   "cell_type": "markdown",
   "metadata": {},
   "source": [
    "### Data Exploration"
   ]
  },
  {
   "cell_type": "markdown",
   "metadata": {},
   "source": [
    "#### Most spending by account "
   ]
  },
  {
   "cell_type": "code",
   "execution_count": 50,
   "metadata": {},
   "outputs": [
    {
     "name": "stdout",
     "output_type": "stream",
     "text": [
      "                               account  amount\n",
      "8911  e5a2f63c3ec4d5dfddcdc3abb6510aa5  8.947M\n",
      "160   040b3d8490a0be543c3394bb5c1c9653  4.144M\n",
      "1683  2ae5455b659642e7196a63cde82f4789  3.625M\n",
      "7932  cead1808d4ea0a56c6f9b97f0f26db1e  2.460M\n",
      "7909  ce23b9bef1753ef640eb57922badb87d  2.385M\n",
      "         amount\n",
      "count   10.001k\n",
      "mean    58.373k\n",
      "std    151.696k\n",
      "min      12.907\n",
      "25%     13.570k\n",
      "50%     25.948k\n",
      "75%     54.553k\n",
      "max      8.947M\n"
     ]
    },
    {
     "data": {
      "text/plain": [
       "(array([ 0,  1,  2,  3,  4,  5,  6,  7,  8,  9, 10, 11, 12, 13, 14, 15, 16,\n",
       "        17, 18, 19]), <a list of 20 Text xticklabel objects>)"
      ]
     },
     "execution_count": 50,
     "metadata": {},
     "output_type": "execute_result"
    },
    {
     "data": {
      "image/png": "[encoded data removed]",
      "text/plain": [
       "<matplotlib.figure.Figure at 0x79b59b70>"
      ]
     },
     "metadata": {},
     "output_type": "display_data"
    }
   ],
   "source": [
    "#groupbyacc = spend.groupby(['account'],sort=True)['amount'].sum().reset_index()\n",
    "#print groupbyacc.head()\n",
    "np.set_printoptions(suppress=False)\n",
    "pd.set_eng_float_format(accuracy=3, use_eng_prefix=True)\n",
    "print groupbyacc.sort_values('amount',ascending=False).head(5)\n",
    "print groupbyacc.describe()\n",
    "sns.barplot(x = 'account',y='amount',data=groupbyacc.sort_values('amount',ascending=False).head(20))\n",
    "plt.xticks(Rotation= 'vertical')\n",
    "#sns.barplot(x='account',y = 'amount', data = groupbyacc)"
   ]
  },
  {
   "cell_type": "markdown",
   "metadata": {},
   "source": [
    "#### Total Monthly spending "
   ]
  },
  {
   "cell_type": "code",
   "execution_count": 406,
   "metadata": {},
   "outputs": [
    {
     "data": {
      "text/plain": [
       "(array([ 0,  1,  2,  3,  4,  5,  6,  7,  8,  9, 10, 11, 12, 13, 14, 15, 16,\n",
       "        17, 18, 19, 20]), <a list of 21 Text xticklabel objects>)"
      ]
     },
     "execution_count": 406,
     "metadata": {},
     "output_type": "execute_result"
    },
    {
     "data": {
      "image/png": "[encoded data removed]",
      "text/plain": [
       "<matplotlib.figure.Figure at 0xe19705f8>"
      ]
     },
     "metadata": {},
     "output_type": "display_data"
    }
   ],
   "source": [
    "groupbydate = spend.groupby(['year_month'],sort=True)['amount'].sum().reset_index()\n",
    "pd.set_eng_float_format(accuracy=3, use_eng_prefix=True)\n",
    "groupbydate.columns = [\"Date\",\"Total\"]\n",
    "\n",
    "#fig, ax =plt.subplot(1,grp_store_year[\"Store_new\"].nunique(),1)\n",
    "pv = pd.pivot_table(groupbydate, index=groupbydate.Date, columns=groupbydate.Total,\n",
    "                   values='Total', aggfunc='sum')\n",
    "\n",
    "plt.figure(figsize=(12,6))\n",
    "sns.barplot(data=groupbydate, x=\"Date\", y=\"Total\")\n",
    "plt.xticks(Rotation= 'vertical')\n"
   ]
  },
  {
   "cell_type": "code",
   "execution_count": 84,
   "metadata": {},
   "outputs": [
    {
     "data": {
      "text/plain": [
       "<matplotlib.axes._subplots.AxesSubplot at 0xf49b11d0>"
      ]
     },
     "execution_count": 84,
     "metadata": {},
     "output_type": "execute_result"
    },
    {
     "data": {
      "image/png": "[encoded data removed]",
      "text/plain": [
       "<matplotlib.figure.Figure at 0xf4e75da0>"
      ]
     },
     "metadata": {},
     "output_type": "display_data"
    }
   ],
   "source": [
    "spend.plot(y=\"amount\",x=\"year_month\",kind='scatter')"
   ]
  },
  {
   "cell_type": "code",
   "execution_count": 91,
   "metadata": {},
   "outputs": [
    {
     "data": {
      "text/plain": [
       "(array([ 0,  1,  2,  3,  4,  5,  6,  7,  8,  9, 10, 11, 12, 13, 14, 15, 16,\n",
       "        17, 18, 19, 20]), <a list of 21 Text xticklabel objects>)"
      ]
     },
     "execution_count": 91,
     "metadata": {},
     "output_type": "execute_result"
    },
    {
     "data": {
      "image/png": "[encoded data removed]",
      "text/plain": [
       "<matplotlib.figure.Figure at 0xf82a5780>"
      ]
     },
     "metadata": {},
     "output_type": "display_data"
    }
   ],
   "source": [
    "groupbyaccountcount = spend.groupby(['year_month'])['account'].nunique().reset_index()\n",
    "plt.figure(figsize=(12,6))\n",
    "sns.barplot(data= groupbyaccountcount,x=\"year_month\",y=\"account\",)\n",
    "plt.xticks(Rotation= 'vertical')"
   ]
  },
  {
   "cell_type": "code",
   "execution_count": 95,
   "metadata": {},
   "outputs": [
    {
     "name": "stdout",
     "output_type": "stream",
     "text": [
      "   year_month                           account   amount\n",
      "0     1973004  a04e063493c55bc6cecd9056712e9e47  730.070\n",
      "1     2017008  000b2159adf33dcb44291291e0575122  10.506k\n",
      "2     2017008  000cff3bf5b20e8bb5734eb0aeef6673   2.673k\n",
      "3     2017008  00115bed7ec756ccb004660899b6a992  193.773\n",
      "4     2017008  0013d81cb06a39cc2fc5fb57b2123115   1.152k\n"
     ]
    },
    {
     "data": {
      "text/html": [
       "<div>\n",
       "<style>\n",
       "    .dataframe thead tr:only-child th {\n",
       "        text-align: right;\n",
       "    }\n",
       "\n",
       "    .dataframe thead th {\n",
       "        text-align: left;\n",
       "    }\n",
       "\n",
       "    .dataframe tbody tr th {\n",
       "        vertical-align: top;\n",
       "    }\n",
       "</style>\n",
       "<table border=\"1\" class=\"dataframe\">\n",
       "  <thead>\n",
       "    <tr style=\"text-align: right;\">\n",
       "      <th>year_month</th>\n",
       "      <th>1973004</th>\n",
       "      <th>2017008</th>\n",
       "      <th>2017009</th>\n",
       "      <th>2017010</th>\n",
       "      <th>2017011</th>\n",
       "      <th>2017012</th>\n",
       "      <th>2018001</th>\n",
       "      <th>2018002</th>\n",
       "      <th>2018003</th>\n",
       "      <th>2018004</th>\n",
       "      <th>...</th>\n",
       "      <th>2018006</th>\n",
       "      <th>2018007</th>\n",
       "      <th>2018008</th>\n",
       "      <th>2018009</th>\n",
       "      <th>2018010</th>\n",
       "      <th>2018011</th>\n",
       "      <th>2018012</th>\n",
       "      <th>2019001</th>\n",
       "      <th>2019002</th>\n",
       "      <th>2019003</th>\n",
       "    </tr>\n",
       "    <tr>\n",
       "      <th>account</th>\n",
       "      <th></th>\n",
       "      <th></th>\n",
       "      <th></th>\n",
       "      <th></th>\n",
       "      <th></th>\n",
       "      <th></th>\n",
       "      <th></th>\n",
       "      <th></th>\n",
       "      <th></th>\n",
       "      <th></th>\n",
       "      <th></th>\n",
       "      <th></th>\n",
       "      <th></th>\n",
       "      <th></th>\n",
       "      <th></th>\n",
       "      <th></th>\n",
       "      <th></th>\n",
       "      <th></th>\n",
       "      <th></th>\n",
       "      <th></th>\n",
       "      <th></th>\n",
       "    </tr>\n",
       "  </thead>\n",
       "  <tbody>\n",
       "    <tr>\n",
       "      <th>00023fda963eb48839a670cbdf74cd21</th>\n",
       "      <td>NaN</td>\n",
       "      <td>NaN</td>\n",
       "      <td>NaN</td>\n",
       "      <td>NaN</td>\n",
       "      <td>839.150</td>\n",
       "      <td>706.625</td>\n",
       "      <td>111.255</td>\n",
       "      <td>893.436</td>\n",
       "      <td>917.848</td>\n",
       "      <td>NaN</td>\n",
       "      <td>...</td>\n",
       "      <td>NaN</td>\n",
       "      <td>39.524</td>\n",
       "      <td>556.384</td>\n",
       "      <td>5.008k</td>\n",
       "      <td>405.073</td>\n",
       "      <td>2.511k</td>\n",
       "      <td>1.487k</td>\n",
       "      <td>2.712k</td>\n",
       "      <td>1.871k</td>\n",
       "      <td>1.984k</td>\n",
       "    </tr>\n",
       "    <tr>\n",
       "      <th>000458145e8ff76fb2907417d806d098</th>\n",
       "      <td>NaN</td>\n",
       "      <td>NaN</td>\n",
       "      <td>NaN</td>\n",
       "      <td>NaN</td>\n",
       "      <td>NaN</td>\n",
       "      <td>NaN</td>\n",
       "      <td>NaN</td>\n",
       "      <td>363.683</td>\n",
       "      <td>1.193k</td>\n",
       "      <td>1.699k</td>\n",
       "      <td>...</td>\n",
       "      <td>1.272k</td>\n",
       "      <td>2.478k</td>\n",
       "      <td>593.378</td>\n",
       "      <td>497.734</td>\n",
       "      <td>1.375k</td>\n",
       "      <td>2.019k</td>\n",
       "      <td>2.535k</td>\n",
       "      <td>4.671k</td>\n",
       "      <td>1.277k</td>\n",
       "      <td>899.158</td>\n",
       "    </tr>\n",
       "    <tr>\n",
       "      <th>000b2159adf33dcb44291291e0575122</th>\n",
       "      <td>NaN</td>\n",
       "      <td>10.506k</td>\n",
       "      <td>19.340k</td>\n",
       "      <td>NaN</td>\n",
       "      <td>NaN</td>\n",
       "      <td>NaN</td>\n",
       "      <td>NaN</td>\n",
       "      <td>NaN</td>\n",
       "      <td>NaN</td>\n",
       "      <td>NaN</td>\n",
       "      <td>...</td>\n",
       "      <td>NaN</td>\n",
       "      <td>NaN</td>\n",
       "      <td>NaN</td>\n",
       "      <td>NaN</td>\n",
       "      <td>NaN</td>\n",
       "      <td>NaN</td>\n",
       "      <td>NaN</td>\n",
       "      <td>NaN</td>\n",
       "      <td>NaN</td>\n",
       "      <td>NaN</td>\n",
       "    </tr>\n",
       "    <tr>\n",
       "      <th>000cff3bf5b20e8bb5734eb0aeef6673</th>\n",
       "      <td>NaN</td>\n",
       "      <td>2.673k</td>\n",
       "      <td>2.110k</td>\n",
       "      <td>4.519k</td>\n",
       "      <td>7.536k</td>\n",
       "      <td>8.764k</td>\n",
       "      <td>14.422k</td>\n",
       "      <td>9.382k</td>\n",
       "      <td>17.029k</td>\n",
       "      <td>16.799k</td>\n",
       "      <td>...</td>\n",
       "      <td>10.474k</td>\n",
       "      <td>8.704k</td>\n",
       "      <td>10.045k</td>\n",
       "      <td>11.230k</td>\n",
       "      <td>15.203k</td>\n",
       "      <td>9.330k</td>\n",
       "      <td>11.444k</td>\n",
       "      <td>379.010</td>\n",
       "      <td>NaN</td>\n",
       "      <td>NaN</td>\n",
       "    </tr>\n",
       "    <tr>\n",
       "      <th>000f6054933c882efb96bc34b91c8924</th>\n",
       "      <td>NaN</td>\n",
       "      <td>NaN</td>\n",
       "      <td>NaN</td>\n",
       "      <td>NaN</td>\n",
       "      <td>236.117</td>\n",
       "      <td>26.519</td>\n",
       "      <td>69.626</td>\n",
       "      <td>NaN</td>\n",
       "      <td>599.241</td>\n",
       "      <td>411.273</td>\n",
       "      <td>...</td>\n",
       "      <td>820.885</td>\n",
       "      <td>784.981</td>\n",
       "      <td>785.364</td>\n",
       "      <td>1.083k</td>\n",
       "      <td>1.478k</td>\n",
       "      <td>716.021</td>\n",
       "      <td>343.746</td>\n",
       "      <td>2.417k</td>\n",
       "      <td>2.219k</td>\n",
       "      <td>2.131k</td>\n",
       "    </tr>\n",
       "  </tbody>\n",
       "</table>\n",
       "<p>5 rows × 21 columns</p>\n",
       "</div>"
      ],
      "text/plain": [
       "year_month                        1973004  2017008  2017009  2017010  2017011  \\\n",
       "account                                                                         \n",
       "00023fda963eb48839a670cbdf74cd21      NaN      NaN      NaN      NaN  839.150   \n",
       "000458145e8ff76fb2907417d806d098      NaN      NaN      NaN      NaN      NaN   \n",
       "000b2159adf33dcb44291291e0575122      NaN  10.506k  19.340k      NaN      NaN   \n",
       "000cff3bf5b20e8bb5734eb0aeef6673      NaN   2.673k   2.110k   4.519k   7.536k   \n",
       "000f6054933c882efb96bc34b91c8924      NaN      NaN      NaN      NaN  236.117   \n",
       "\n",
       "year_month                        2017012  2018001  2018002  2018003  2018004  \\\n",
       "account                                                                         \n",
       "00023fda963eb48839a670cbdf74cd21  706.625  111.255  893.436  917.848      NaN   \n",
       "000458145e8ff76fb2907417d806d098      NaN      NaN  363.683   1.193k   1.699k   \n",
       "000b2159adf33dcb44291291e0575122      NaN      NaN      NaN      NaN      NaN   \n",
       "000cff3bf5b20e8bb5734eb0aeef6673   8.764k  14.422k   9.382k  17.029k  16.799k   \n",
       "000f6054933c882efb96bc34b91c8924   26.519   69.626      NaN  599.241  411.273   \n",
       "\n",
       "year_month                         ...     2018006  2018007  2018008  2018009  \\\n",
       "account                            ...                                          \n",
       "00023fda963eb48839a670cbdf74cd21   ...         NaN   39.524  556.384   5.008k   \n",
       "000458145e8ff76fb2907417d806d098   ...      1.272k   2.478k  593.378  497.734   \n",
       "000b2159adf33dcb44291291e0575122   ...         NaN      NaN      NaN      NaN   \n",
       "000cff3bf5b20e8bb5734eb0aeef6673   ...     10.474k   8.704k  10.045k  11.230k   \n",
       "000f6054933c882efb96bc34b91c8924   ...     820.885  784.981  785.364   1.083k   \n",
       "\n",
       "year_month                        2018010  2018011  2018012  2019001  2019002  \\\n",
       "account                                                                         \n",
       "00023fda963eb48839a670cbdf74cd21  405.073   2.511k   1.487k   2.712k   1.871k   \n",
       "000458145e8ff76fb2907417d806d098   1.375k   2.019k   2.535k   4.671k   1.277k   \n",
       "000b2159adf33dcb44291291e0575122      NaN      NaN      NaN      NaN      NaN   \n",
       "000cff3bf5b20e8bb5734eb0aeef6673  15.203k   9.330k  11.444k  379.010      NaN   \n",
       "000f6054933c882efb96bc34b91c8924   1.478k  716.021  343.746   2.417k   2.219k   \n",
       "\n",
       "year_month                        2019003  \n",
       "account                                    \n",
       "00023fda963eb48839a670cbdf74cd21   1.984k  \n",
       "000458145e8ff76fb2907417d806d098  899.158  \n",
       "000b2159adf33dcb44291291e0575122      NaN  \n",
       "000cff3bf5b20e8bb5734eb0aeef6673      NaN  \n",
       "000f6054933c882efb96bc34b91c8924   2.131k  \n",
       "\n",
       "[5 rows x 21 columns]"
      ]
     },
     "execution_count": 95,
     "metadata": {},
     "output_type": "execute_result"
    }
   ],
   "source": [
    "groupbymonthaccount = spend.groupby(['year_month','account'])['amount'].sum().reset_index()\n",
    "groupbymonthaccount.columns = ['year_month','account','amount']\n",
    "print groupbymonthaccount.head()\n",
    "pvv = pd.pivot_table(groupbymonthaccount, index=groupbymonthaccount.account, columns=groupbymonthaccount.year_month,\n",
    "                   values='amount', aggfunc='sum')\n",
    "pvv.head()\n",
    "#plt.figure(figsize=(12,6))\n",
    "#sns.barplot(data= groupbyaccountcount,x=\"year_month\",y=\"account\",)\n",
    "#plt.xticks(Rotation= 'vertical')"
   ]
  },
  {
   "cell_type": "code",
   "execution_count": null,
   "metadata": {
    "collapsed": true
   },
   "outputs": [],
   "source": [
    "groupbycount = count.groupby('')"
   ]
  },
  {
   "cell_type": "code",
   "execution_count": 116,
   "metadata": {},
   "outputs": [
    {
     "name": "stdout",
     "output_type": "stream",
     "text": [
      "account         0\n",
      "amount          3\n",
      "new_date        0\n",
      "new_time        3\n",
      "count         110\n",
      "year            0\n",
      "month           0\n",
      "day             0\n",
      "quarter         0\n",
      "year_month      0\n",
      "dtype: int64\n",
      "                            account   amount    new_date  new_time    count  \\\n",
      "0  5e0a5eb5575517efdddb2799c90e2e9b   15.144  2017-08-16  00:00:00   56.000   \n",
      "1  a04e063493c55bc6cecd9056712e9e47  730.070  1973-04-05  07:06:40    0.000   \n",
      "2  ff6cc8cadcb7457f9ddb2dd238a13733   3.651k  2017-08-16  00:00:00  432.000   \n",
      "3  324a05f1f917b8a0af83a54e55a1ef63  113.219  2017-08-16  00:00:00   50.000   \n",
      "4  b9abff45dc08172b556cb10b7c3c2252  697.224  2017-08-16  00:00:00  135.000   \n",
      "\n",
      "   year  month  day  quarter  year_month  \n",
      "0  2017      8   16        3     2017008  \n",
      "1  1973      4    5        2     1973004  \n",
      "2  2017      8   16        3     2017008  \n",
      "3  2017      8   16        3     2017008  \n",
      "4  2017      8   16        3     2017008  \n",
      "account       0\n",
      "amount        0\n",
      "new_date      0\n",
      "new_time      0\n",
      "count         0\n",
      "year          0\n",
      "month         0\n",
      "day           0\n",
      "quarter       0\n",
      "year_month    0\n",
      "dtype: int64\n"
     ]
    }
   ],
   "source": [
    "#df = pd.merge(spend,count,how='outer')#, left_on=['account','new_date'], right_on = ['account','date'])\n",
    "#print df.head()\n",
    "print df.isnull().sum()\n",
    "df = df.fillna(0)\n",
    "print df.head()\n",
    "print df.isnull().sum()"
   ]
  },
  {
   "cell_type": "code",
   "execution_count": 106,
   "metadata": {},
   "outputs": [
    {
     "data": {
      "text/html": [
       "<div>\n",
       "<style>\n",
       "    .dataframe thead tr:only-child th {\n",
       "        text-align: right;\n",
       "    }\n",
       "\n",
       "    .dataframe thead th {\n",
       "        text-align: left;\n",
       "    }\n",
       "\n",
       "    .dataframe tbody tr th {\n",
       "        vertical-align: top;\n",
       "    }\n",
       "</style>\n",
       "<table border=\"1\" class=\"dataframe\">\n",
       "  <thead>\n",
       "    <tr style=\"text-align: right;\">\n",
       "      <th></th>\n",
       "      <th>account</th>\n",
       "      <th>amount</th>\n",
       "      <th>new_date</th>\n",
       "      <th>new_time</th>\n",
       "      <th>count</th>\n",
       "      <th>year</th>\n",
       "      <th>month</th>\n",
       "      <th>day</th>\n",
       "      <th>quarter</th>\n",
       "      <th>year_month</th>\n",
       "    </tr>\n",
       "  </thead>\n",
       "  <tbody>\n",
       "    <tr>\n",
       "      <th>0</th>\n",
       "      <td>5e0a5eb5575517efdddb2799c90e2e9b</td>\n",
       "      <td>15.144</td>\n",
       "      <td>2017-08-16</td>\n",
       "      <td>00:00:00</td>\n",
       "      <td>56.000</td>\n",
       "      <td>2017</td>\n",
       "      <td>8</td>\n",
       "      <td>16</td>\n",
       "      <td>3</td>\n",
       "      <td>2017008</td>\n",
       "    </tr>\n",
       "    <tr>\n",
       "      <th>1</th>\n",
       "      <td>a04e063493c55bc6cecd9056712e9e47</td>\n",
       "      <td>730.070</td>\n",
       "      <td>1973-04-05</td>\n",
       "      <td>07:06:40</td>\n",
       "      <td>NaN</td>\n",
       "      <td>1973</td>\n",
       "      <td>4</td>\n",
       "      <td>5</td>\n",
       "      <td>2</td>\n",
       "      <td>1973004</td>\n",
       "    </tr>\n",
       "    <tr>\n",
       "      <th>2</th>\n",
       "      <td>ff6cc8cadcb7457f9ddb2dd238a13733</td>\n",
       "      <td>3.651k</td>\n",
       "      <td>2017-08-16</td>\n",
       "      <td>00:00:00</td>\n",
       "      <td>432.000</td>\n",
       "      <td>2017</td>\n",
       "      <td>8</td>\n",
       "      <td>16</td>\n",
       "      <td>3</td>\n",
       "      <td>2017008</td>\n",
       "    </tr>\n",
       "    <tr>\n",
       "      <th>3</th>\n",
       "      <td>324a05f1f917b8a0af83a54e55a1ef63</td>\n",
       "      <td>113.219</td>\n",
       "      <td>2017-08-16</td>\n",
       "      <td>00:00:00</td>\n",
       "      <td>50.000</td>\n",
       "      <td>2017</td>\n",
       "      <td>8</td>\n",
       "      <td>16</td>\n",
       "      <td>3</td>\n",
       "      <td>2017008</td>\n",
       "    </tr>\n",
       "    <tr>\n",
       "      <th>4</th>\n",
       "      <td>b9abff45dc08172b556cb10b7c3c2252</td>\n",
       "      <td>697.224</td>\n",
       "      <td>2017-08-16</td>\n",
       "      <td>00:00:00</td>\n",
       "      <td>135.000</td>\n",
       "      <td>2017</td>\n",
       "      <td>8</td>\n",
       "      <td>16</td>\n",
       "      <td>3</td>\n",
       "      <td>2017008</td>\n",
       "    </tr>\n",
       "  </tbody>\n",
       "</table>\n",
       "</div>"
      ],
      "text/plain": [
       "                            account   amount    new_date  new_time    count  \\\n",
       "0  5e0a5eb5575517efdddb2799c90e2e9b   15.144  2017-08-16  00:00:00   56.000   \n",
       "1  a04e063493c55bc6cecd9056712e9e47  730.070  1973-04-05  07:06:40      NaN   \n",
       "2  ff6cc8cadcb7457f9ddb2dd238a13733   3.651k  2017-08-16  00:00:00  432.000   \n",
       "3  324a05f1f917b8a0af83a54e55a1ef63  113.219  2017-08-16  00:00:00   50.000   \n",
       "4  b9abff45dc08172b556cb10b7c3c2252  697.224  2017-08-16  00:00:00  135.000   \n",
       "\n",
       "   year  month  day  quarter  year_month  \n",
       "0  2017      8   16        3     2017008  \n",
       "1  1973      4    5        2     1973004  \n",
       "2  2017      8   16        3     2017008  \n",
       "3  2017      8   16        3     2017008  \n",
       "4  2017      8   16        3     2017008  "
      ]
     },
     "execution_count": 106,
     "metadata": {},
     "output_type": "execute_result"
    }
   ],
   "source": [
    "df[\"year\"] = pd.DatetimeIndex(df[\"new_date\"]).year\n",
    "df[\"month\"] = pd.DatetimeIndex(df[\"new_date\"]).month\n",
    "df[\"day\"] = pd.DatetimeIndex(df[\"new_date\"]).day\n",
    "df[\"quarter\"] = pd.DatetimeIndex(df[\"new_date\"]).quarter\n",
    "df[\"year_month\"] = df['new_date'].map(lambda x: 1000*x.year + x.month)\n",
    "df.head()"
   ]
  },
  {
   "cell_type": "code",
   "execution_count": 166,
   "metadata": {},
   "outputs": [],
   "source": [
    "df[\"year_quarter\"] = pd.DatetimeIndex(df[\"new_date\"]).map(lambda x: 1000*x.year + x.quarter)"
   ]
  },
  {
   "cell_type": "code",
   "execution_count": 167,
   "metadata": {},
   "outputs": [
    {
     "name": "stdout",
     "output_type": "stream",
     "text": [
      "         amount   count      year   month     day  quarter  year_month  \\\n",
      "count    1.934M  1.934M    1.934M  1.934M  1.934M   1.934M      1.934M   \n",
      "mean    301.837  41.456    2.018k   6.874  15.717    2.616      2.018M   \n",
      "std      1.122k  74.993  551.689m   3.722   8.837    1.199     549.333   \n",
      "min       0.000   0.000    1.973k   1.000   1.000    1.000      1.973M   \n",
      "25%      15.327  15.000    2.018k   3.000   8.000    1.000      2.018M   \n",
      "50%      66.134  24.000    2.018k   7.000  16.000    3.000      2.018M   \n",
      "75%     234.994  44.000    2.018k  10.000  23.000    4.000      2.018M   \n",
      "max    307.370k  5.643k    2.019k  12.000  31.000    4.000      2.019M   \n",
      "\n",
      "       year_quarter  \n",
      "count        1.934M  \n",
      "mean         2.018M  \n",
      "std         550.939  \n",
      "min          1.973M  \n",
      "25%          2.018M  \n",
      "50%          2.018M  \n",
      "75%          2.018M  \n",
      "max          2.019M  \n"
     ]
    }
   ],
   "source": [
    "print df.describe()"
   ]
  },
  {
   "cell_type": "code",
   "execution_count": 169,
   "metadata": {},
   "outputs": [
    {
     "data": {
      "text/html": [
       "<div>\n",
       "<style>\n",
       "    .dataframe thead tr:only-child th {\n",
       "        text-align: right;\n",
       "    }\n",
       "\n",
       "    .dataframe thead th {\n",
       "        text-align: left;\n",
       "    }\n",
       "\n",
       "    .dataframe tbody tr th {\n",
       "        vertical-align: top;\n",
       "    }\n",
       "</style>\n",
       "<table border=\"1\" class=\"dataframe\">\n",
       "  <thead>\n",
       "    <tr style=\"text-align: right;\">\n",
       "      <th></th>\n",
       "      <th>account</th>\n",
       "      <th>amount</th>\n",
       "      <th>new_date</th>\n",
       "      <th>new_time</th>\n",
       "      <th>count</th>\n",
       "      <th>year</th>\n",
       "      <th>month</th>\n",
       "      <th>day</th>\n",
       "      <th>quarter</th>\n",
       "      <th>year_month</th>\n",
       "      <th>year_quarter</th>\n",
       "    </tr>\n",
       "  </thead>\n",
       "  <tbody>\n",
       "    <tr>\n",
       "      <th>0</th>\n",
       "      <td>5e0a5eb5575517efdddb2799c90e2e9b</td>\n",
       "      <td>15.144</td>\n",
       "      <td>2017-08-16</td>\n",
       "      <td>00:00:00</td>\n",
       "      <td>56.000</td>\n",
       "      <td>2017</td>\n",
       "      <td>8</td>\n",
       "      <td>16</td>\n",
       "      <td>3</td>\n",
       "      <td>2017008</td>\n",
       "      <td>2017003</td>\n",
       "    </tr>\n",
       "    <tr>\n",
       "      <th>1</th>\n",
       "      <td>a04e063493c55bc6cecd9056712e9e47</td>\n",
       "      <td>730.070</td>\n",
       "      <td>1973-04-05</td>\n",
       "      <td>07:06:40</td>\n",
       "      <td>0.000</td>\n",
       "      <td>1973</td>\n",
       "      <td>4</td>\n",
       "      <td>5</td>\n",
       "      <td>2</td>\n",
       "      <td>1973004</td>\n",
       "      <td>1973002</td>\n",
       "    </tr>\n",
       "    <tr>\n",
       "      <th>2</th>\n",
       "      <td>ff6cc8cadcb7457f9ddb2dd238a13733</td>\n",
       "      <td>3.651k</td>\n",
       "      <td>2017-08-16</td>\n",
       "      <td>00:00:00</td>\n",
       "      <td>432.000</td>\n",
       "      <td>2017</td>\n",
       "      <td>8</td>\n",
       "      <td>16</td>\n",
       "      <td>3</td>\n",
       "      <td>2017008</td>\n",
       "      <td>2017003</td>\n",
       "    </tr>\n",
       "    <tr>\n",
       "      <th>3</th>\n",
       "      <td>324a05f1f917b8a0af83a54e55a1ef63</td>\n",
       "      <td>113.219</td>\n",
       "      <td>2017-08-16</td>\n",
       "      <td>00:00:00</td>\n",
       "      <td>50.000</td>\n",
       "      <td>2017</td>\n",
       "      <td>8</td>\n",
       "      <td>16</td>\n",
       "      <td>3</td>\n",
       "      <td>2017008</td>\n",
       "      <td>2017003</td>\n",
       "    </tr>\n",
       "    <tr>\n",
       "      <th>4</th>\n",
       "      <td>b9abff45dc08172b556cb10b7c3c2252</td>\n",
       "      <td>697.224</td>\n",
       "      <td>2017-08-16</td>\n",
       "      <td>00:00:00</td>\n",
       "      <td>135.000</td>\n",
       "      <td>2017</td>\n",
       "      <td>8</td>\n",
       "      <td>16</td>\n",
       "      <td>3</td>\n",
       "      <td>2017008</td>\n",
       "      <td>2017003</td>\n",
       "    </tr>\n",
       "  </tbody>\n",
       "</table>\n",
       "</div>"
      ],
      "text/plain": [
       "                            account   amount    new_date  new_time    count  \\\n",
       "0  5e0a5eb5575517efdddb2799c90e2e9b   15.144  2017-08-16  00:00:00   56.000   \n",
       "1  a04e063493c55bc6cecd9056712e9e47  730.070  1973-04-05  07:06:40    0.000   \n",
       "2  ff6cc8cadcb7457f9ddb2dd238a13733   3.651k  2017-08-16  00:00:00  432.000   \n",
       "3  324a05f1f917b8a0af83a54e55a1ef63  113.219  2017-08-16  00:00:00   50.000   \n",
       "4  b9abff45dc08172b556cb10b7c3c2252  697.224  2017-08-16  00:00:00  135.000   \n",
       "\n",
       "   year  month  day  quarter  year_month  year_quarter  \n",
       "0  2017      8   16        3     2017008       2017003  \n",
       "1  1973      4    5        2     1973004       1973002  \n",
       "2  2017      8   16        3     2017008       2017003  \n",
       "3  2017      8   16        3     2017008       2017003  \n",
       "4  2017      8   16        3     2017008       2017003  "
      ]
     },
     "execution_count": 169,
     "metadata": {},
     "output_type": "execute_result"
    }
   ],
   "source": [
    "df.head(1)"
   ]
  },
  {
   "cell_type": "markdown",
   "metadata": {},
   "source": [
    "#### AMOUNT:\n",
    "##### There is large difference between mean and median for amount feature. Which is kind of expected and which shows that amount data is not normailly distributed. There looks to be large difference between min and max values.  -ve value can be a outlier for current scenario.\n",
    "\n",
    "#### COUNT:\n",
    "##### Counts seems to be normally distributed with few outliers.\n",
    "\n"
   ]
  },
  {
   "cell_type": "code",
   "execution_count": 407,
   "metadata": {},
   "outputs": [
    {
     "data": {
      "text/plain": [
       "(array([  1.93309800e+06,   8.19000000e+02,   1.43000000e+02,\n",
       "          3.00000000e+01,   1.70000000e+01,   9.00000000e+00,\n",
       "          4.00000000e+00,   7.00000000e+00,   4.00000000e+00,\n",
       "          0.00000000e+00,   1.00000000e+00,   1.00000000e+00,\n",
       "          1.00000000e+00,   0.00000000e+00,   0.00000000e+00,\n",
       "          1.00000000e+00,   0.00000000e+00,   0.00000000e+00,\n",
       "          0.00000000e+00,   2.00000000e+00]),\n",
       " array([      0.        ,   15368.52288498,   30737.04576995,\n",
       "          46105.56865493,   61474.0915399 ,   76842.61442488,\n",
       "          92211.13730985,  107579.66019483,  122948.1830798 ,\n",
       "         138316.70596478,  153685.22884975,  169053.75173473,\n",
       "         184422.2746197 ,  199790.79750468,  215159.32038966,\n",
       "         230527.84327463,  245896.36615961,  261264.88904458,\n",
       "         276633.41192956,  292001.93481453,  307370.45769951]),\n",
       " <a list of 20 Patch objects>)"
      ]
     },
     "execution_count": 407,
     "metadata": {},
     "output_type": "execute_result"
    },
    {
     "data": {
      "image/png": "[encoded data removed]",
      "text/plain": [
       "<matplotlib.figure.Figure at 0xd492ccf8>"
      ]
     },
     "metadata": {},
     "output_type": "display_data"
    }
   ],
   "source": [
    "plt.figure(figsize=(12,6))\n",
    "plt.hist(df.amount, 20, facecolor='blue', alpha=0.5)"
   ]
  },
  {
   "cell_type": "markdown",
   "metadata": {},
   "source": [
    "##### Removing negative value from data"
   ]
  },
  {
   "cell_type": "code",
   "execution_count": 311,
   "metadata": {},
   "outputs": [
    {
     "data": {
      "text/html": [
       "<div>\n",
       "<style>\n",
       "    .dataframe thead tr:only-child th {\n",
       "        text-align: right;\n",
       "    }\n",
       "\n",
       "    .dataframe thead th {\n",
       "        text-align: left;\n",
       "    }\n",
       "\n",
       "    .dataframe tbody tr th {\n",
       "        vertical-align: top;\n",
       "    }\n",
       "</style>\n",
       "<table border=\"1\" class=\"dataframe\">\n",
       "  <thead>\n",
       "    <tr style=\"text-align: right;\">\n",
       "      <th></th>\n",
       "      <th>avg_amount</th>\n",
       "    </tr>\n",
       "    <tr>\n",
       "      <th>account</th>\n",
       "      <th></th>\n",
       "    </tr>\n",
       "  </thead>\n",
       "  <tbody>\n",
       "    <tr>\n",
       "      <th>00023fda963eb48839a670cbdf74cd21</th>\n",
       "      <td>261.877</td>\n",
       "    </tr>\n",
       "    <tr>\n",
       "      <th>000458145e8ff76fb2907417d806d098</th>\n",
       "      <td>152.247</td>\n",
       "    </tr>\n",
       "    <tr>\n",
       "      <th>000b2159adf33dcb44291291e0575122</th>\n",
       "      <td>678.304</td>\n",
       "    </tr>\n",
       "    <tr>\n",
       "      <th>000cff3bf5b20e8bb5734eb0aeef6673</th>\n",
       "      <td>360.440</td>\n",
       "    </tr>\n",
       "    <tr>\n",
       "      <th>000f6054933c882efb96bc34b91c8924</th>\n",
       "      <td>77.269</td>\n",
       "    </tr>\n",
       "  </tbody>\n",
       "</table>\n",
       "</div>"
      ],
      "text/plain": [
       "                                  avg_amount\n",
       "account                                     \n",
       "00023fda963eb48839a670cbdf74cd21     261.877\n",
       "000458145e8ff76fb2907417d806d098     152.247\n",
       "000b2159adf33dcb44291291e0575122     678.304\n",
       "000cff3bf5b20e8bb5734eb0aeef6673     360.440\n",
       "000f6054933c882efb96bc34b91c8924      77.269"
      ]
     },
     "execution_count": 311,
     "metadata": {},
     "output_type": "execute_result"
    }
   ],
   "source": [
    "model_df = pd.DataFrame()\n",
    "model_df[\"avg_amount\"] = df.groupby(\"account\")['amount'].mean()\n",
    "model_df.head()"
   ]
  },
  {
   "cell_type": "code",
   "execution_count": 312,
   "metadata": {},
   "outputs": [
    {
     "data": {
      "text/html": [
       "<div>\n",
       "<style>\n",
       "    .dataframe thead tr:only-child th {\n",
       "        text-align: right;\n",
       "    }\n",
       "\n",
       "    .dataframe thead th {\n",
       "        text-align: left;\n",
       "    }\n",
       "\n",
       "    .dataframe tbody tr th {\n",
       "        vertical-align: top;\n",
       "    }\n",
       "</style>\n",
       "<table border=\"1\" class=\"dataframe\">\n",
       "  <thead>\n",
       "    <tr style=\"text-align: right;\">\n",
       "      <th></th>\n",
       "      <th>avg_amount</th>\n",
       "      <th>start_date</th>\n",
       "      <th>end_date</th>\n",
       "      <th>avg_transaction</th>\n",
       "      <th>active_days</th>\n",
       "    </tr>\n",
       "    <tr>\n",
       "      <th>account</th>\n",
       "      <th></th>\n",
       "      <th></th>\n",
       "      <th></th>\n",
       "      <th></th>\n",
       "      <th></th>\n",
       "    </tr>\n",
       "  </thead>\n",
       "  <tbody>\n",
       "    <tr>\n",
       "      <th>00023fda963eb48839a670cbdf74cd21</th>\n",
       "      <td>261.877</td>\n",
       "      <td>2017-11-26</td>\n",
       "      <td>2019-03-14</td>\n",
       "      <td>16.364</td>\n",
       "      <td>77</td>\n",
       "    </tr>\n",
       "    <tr>\n",
       "      <th>000458145e8ff76fb2907417d806d098</th>\n",
       "      <td>152.247</td>\n",
       "      <td>2018-02-15</td>\n",
       "      <td>2019-03-15</td>\n",
       "      <td>23.611</td>\n",
       "      <td>144</td>\n",
       "    </tr>\n",
       "    <tr>\n",
       "      <th>000b2159adf33dcb44291291e0575122</th>\n",
       "      <td>678.304</td>\n",
       "      <td>2017-08-16</td>\n",
       "      <td>2017-09-28</td>\n",
       "      <td>219.000</td>\n",
       "      <td>44</td>\n",
       "    </tr>\n",
       "    <tr>\n",
       "      <th>000cff3bf5b20e8bb5734eb0aeef6673</th>\n",
       "      <td>360.440</td>\n",
       "      <td>2017-08-16</td>\n",
       "      <td>2019-01-02</td>\n",
       "      <td>65.188</td>\n",
       "      <td>485</td>\n",
       "    </tr>\n",
       "    <tr>\n",
       "      <th>000f6054933c882efb96bc34b91c8924</th>\n",
       "      <td>77.269</td>\n",
       "      <td>2017-11-09</td>\n",
       "      <td>2019-03-15</td>\n",
       "      <td>22.120</td>\n",
       "      <td>200</td>\n",
       "    </tr>\n",
       "  </tbody>\n",
       "</table>\n",
       "</div>"
      ],
      "text/plain": [
       "                                  avg_amount  start_date    end_date  \\\n",
       "account                                                                \n",
       "00023fda963eb48839a670cbdf74cd21     261.877  2017-11-26  2019-03-14   \n",
       "000458145e8ff76fb2907417d806d098     152.247  2018-02-15  2019-03-15   \n",
       "000b2159adf33dcb44291291e0575122     678.304  2017-08-16  2017-09-28   \n",
       "000cff3bf5b20e8bb5734eb0aeef6673     360.440  2017-08-16  2019-01-02   \n",
       "000f6054933c882efb96bc34b91c8924      77.269  2017-11-09  2019-03-15   \n",
       "\n",
       "                                  avg_transaction  active_days  \n",
       "account                                                         \n",
       "00023fda963eb48839a670cbdf74cd21           16.364           77  \n",
       "000458145e8ff76fb2907417d806d098           23.611          144  \n",
       "000b2159adf33dcb44291291e0575122          219.000           44  \n",
       "000cff3bf5b20e8bb5734eb0aeef6673           65.188          485  \n",
       "000f6054933c882efb96bc34b91c8924           22.120          200  "
      ]
     },
     "execution_count": 312,
     "metadata": {},
     "output_type": "execute_result"
    }
   ],
   "source": [
    "#model_df = model_df.set_index(\"account\",inplace=True)\n",
    "account_start_date = pd.DataFrame()\n",
    "account_end_date = pd.DataFrame()\n",
    "account_avg_transaction = pd.DataFrame()\n",
    "account_total_active_days = pd.DataFrame()\n",
    "account_start_date[\"start_date\"] = df.groupby(\"account\")['new_date'].min()\n",
    "model_df = model_df.join(account_start_date)\n",
    "account_end_date[\"end_date\"] = df.groupby(\"account\")['new_date'].max()\n",
    "model_df = model_df.join(account_end_date)\n",
    "account_avg_transaction[\"avg_transaction\"] = df.groupby(\"account\")['count'].mean()\n",
    "model_df = model_df.join(account_avg_transaction)\n",
    "account_total_active_days['active_days'] = df.groupby(\"account\")['new_date'].count()\n",
    "model_df = model_df.join(account_total_active_days)\n",
    "model_df.head()\n"
   ]
  },
  {
   "cell_type": "code",
   "execution_count": 313,
   "metadata": {
    "collapsed": true
   },
   "outputs": [],
   "source": [
    "del account_start_date ,account_end_date ,account_avg_transaction,account_total_active_days"
   ]
  },
  {
   "cell_type": "code",
   "execution_count": 315,
   "metadata": {},
   "outputs": [],
   "source": [
    "#model_df['days_seen_last_transaction'] = df.new_date.max() - model_df['end_date']\n",
    "model_df['days_seen_last_transaction'] = model_df['days_seen_last_transaction'].dt.days\n",
    "model_df.drop([\"days_seen_last_tran\"],inplace=True,axis=1)"
   ]
  },
  {
   "cell_type": "code",
   "execution_count": 317,
   "metadata": {},
   "outputs": [
    {
     "name": "stdout",
     "output_type": "stream",
     "text": [
      "                                  avg_amount  start_date    end_date  \\\n",
      "account                                                                \n",
      "00023fda963eb48839a670cbdf74cd21     261.877  2017-11-26  2019-03-14   \n",
      "000458145e8ff76fb2907417d806d098     152.247  2018-02-15  2019-03-15   \n",
      "000b2159adf33dcb44291291e0575122     678.304  2017-08-16  2017-09-28   \n",
      "000cff3bf5b20e8bb5734eb0aeef6673     360.440  2017-08-16  2019-01-02   \n",
      "000f6054933c882efb96bc34b91c8924      77.269  2017-11-09  2019-03-15   \n",
      "\n",
      "                                  avg_transaction  active_days  \\\n",
      "account                                                          \n",
      "00023fda963eb48839a670cbdf74cd21           16.364           77   \n",
      "000458145e8ff76fb2907417d806d098           23.611          144   \n",
      "000b2159adf33dcb44291291e0575122          219.000           44   \n",
      "000cff3bf5b20e8bb5734eb0aeef6673           65.188          485   \n",
      "000f6054933c882efb96bc34b91c8924           22.120          200   \n",
      "\n",
      "                                  days_seen_last_transaction  \\\n",
      "account                                                        \n",
      "00023fda963eb48839a670cbdf74cd21                           1   \n",
      "000458145e8ff76fb2907417d806d098                           0   \n",
      "000b2159adf33dcb44291291e0575122                         533   \n",
      "000cff3bf5b20e8bb5734eb0aeef6673                          72   \n",
      "000f6054933c882efb96bc34b91c8924                           0   \n",
      "\n",
      "                                  risky_by_last_activity  \n",
      "account                                                   \n",
      "00023fda963eb48839a670cbdf74cd21                       0  \n",
      "000458145e8ff76fb2907417d806d098                       0  \n",
      "000b2159adf33dcb44291291e0575122                       1  \n",
      "000cff3bf5b20e8bb5734eb0aeef6673                       0  \n",
      "000f6054933c882efb96bc34b91c8924                       0  \n",
      "2074\n"
     ]
    }
   ],
   "source": [
    "model_df[\"risky_by_last_activity\"]=model_df.apply(lambda x: 1 if x[\"days_seen_last_transaction\"]> 120 else 0, axis=1)\n",
    "print model_df.head()\n",
    "print model_df.risky_by_last_activity.sum()"
   ]
  },
  {
   "cell_type": "markdown",
   "metadata": {},
   "source": [
    "##### Quarterly avarage count and no of active days per quarter count"
   ]
  },
  {
   "cell_type": "code",
   "execution_count": 255,
   "metadata": {},
   "outputs": [
    {
     "data": {
      "text/html": [
       "<div>\n",
       "<style>\n",
       "    .dataframe thead tr:only-child th {\n",
       "        text-align: right;\n",
       "    }\n",
       "\n",
       "    .dataframe thead th {\n",
       "        text-align: left;\n",
       "    }\n",
       "\n",
       "    .dataframe tbody tr th {\n",
       "        vertical-align: top;\n",
       "    }\n",
       "</style>\n",
       "<table border=\"1\" class=\"dataframe\">\n",
       "  <thead>\n",
       "    <tr style=\"text-align: right;\">\n",
       "      <th>year_quarter</th>\n",
       "      <th>1973002</th>\n",
       "      <th>2017003</th>\n",
       "      <th>2017004</th>\n",
       "      <th>2018001</th>\n",
       "      <th>2018002</th>\n",
       "      <th>2018003</th>\n",
       "      <th>2018004</th>\n",
       "      <th>2019001</th>\n",
       "    </tr>\n",
       "    <tr>\n",
       "      <th>account</th>\n",
       "      <th></th>\n",
       "      <th></th>\n",
       "      <th></th>\n",
       "      <th></th>\n",
       "      <th></th>\n",
       "      <th></th>\n",
       "      <th></th>\n",
       "      <th></th>\n",
       "    </tr>\n",
       "  </thead>\n",
       "  <tbody>\n",
       "    <tr>\n",
       "      <th>00023fda963eb48839a670cbdf74cd21</th>\n",
       "      <td>0.000</td>\n",
       "      <td>0.000</td>\n",
       "      <td>84.000</td>\n",
       "      <td>140.000</td>\n",
       "      <td>28.000</td>\n",
       "      <td>126.000</td>\n",
       "      <td>364.000</td>\n",
       "      <td>518.000</td>\n",
       "    </tr>\n",
       "    <tr>\n",
       "      <th>000458145e8ff76fb2907417d806d098</th>\n",
       "      <td>0.000</td>\n",
       "      <td>0.000</td>\n",
       "      <td>0.000</td>\n",
       "      <td>153.000</td>\n",
       "      <td>595.000</td>\n",
       "      <td>561.000</td>\n",
       "      <td>1.037k</td>\n",
       "      <td>1.054k</td>\n",
       "    </tr>\n",
       "    <tr>\n",
       "      <th>000b2159adf33dcb44291291e0575122</th>\n",
       "      <td>0.000</td>\n",
       "      <td>9.636k</td>\n",
       "      <td>0.000</td>\n",
       "      <td>0.000</td>\n",
       "      <td>0.000</td>\n",
       "      <td>0.000</td>\n",
       "      <td>0.000</td>\n",
       "      <td>0.000</td>\n",
       "    </tr>\n",
       "    <tr>\n",
       "      <th>000cff3bf5b20e8bb5734eb0aeef6673</th>\n",
       "      <td>0.000</td>\n",
       "      <td>1.056k</td>\n",
       "      <td>4.704k</td>\n",
       "      <td>5.152k</td>\n",
       "      <td>6.720k</td>\n",
       "      <td>4.992k</td>\n",
       "      <td>8.912k</td>\n",
       "      <td>80.000</td>\n",
       "    </tr>\n",
       "    <tr>\n",
       "      <th>000f6054933c882efb96bc34b91c8924</th>\n",
       "      <td>0.000</td>\n",
       "      <td>0.000</td>\n",
       "      <td>84.000</td>\n",
       "      <td>126.000</td>\n",
       "      <td>980.000</td>\n",
       "      <td>952.000</td>\n",
       "      <td>1.036k</td>\n",
       "      <td>1.246k</td>\n",
       "    </tr>\n",
       "  </tbody>\n",
       "</table>\n",
       "</div>"
      ],
      "text/plain": [
       "year_quarter                      1973002  2017003  2017004  2018001  2018002  \\\n",
       "account                                                                         \n",
       "00023fda963eb48839a670cbdf74cd21    0.000    0.000   84.000  140.000   28.000   \n",
       "000458145e8ff76fb2907417d806d098    0.000    0.000    0.000  153.000  595.000   \n",
       "000b2159adf33dcb44291291e0575122    0.000   9.636k    0.000    0.000    0.000   \n",
       "000cff3bf5b20e8bb5734eb0aeef6673    0.000   1.056k   4.704k   5.152k   6.720k   \n",
       "000f6054933c882efb96bc34b91c8924    0.000    0.000   84.000  126.000  980.000   \n",
       "\n",
       "year_quarter                      2018003  2018004  2019001  \n",
       "account                                                      \n",
       "00023fda963eb48839a670cbdf74cd21  126.000  364.000  518.000  \n",
       "000458145e8ff76fb2907417d806d098  561.000   1.037k   1.054k  \n",
       "000b2159adf33dcb44291291e0575122    0.000    0.000    0.000  \n",
       "000cff3bf5b20e8bb5734eb0aeef6673   4.992k   8.912k   80.000  \n",
       "000f6054933c882efb96bc34b91c8924  952.000   1.036k   1.246k  "
      ]
     },
     "execution_count": 255,
     "metadata": {},
     "output_type": "execute_result"
    }
   ],
   "source": [
    "account_start_date = df.groupby([\"account\",\"year_quarter\"])['count'].sum().reset_index()\n",
    "account_start_date.columns = [\"account\",\"year_quarter\",\"avg_transaction\"]\n",
    "account_start_date= pd.pivot_table(data=account_start_date,index=account_start_date.account,columns=account_start_date.year_quarter,\n",
    "                                  values='avg_transaction',aggfunc='mean' )\n",
    "account_start_date.fillna(0,inplace=True)\n",
    "\n",
    "account_start_date.head()\n",
    "\n"
   ]
  },
  {
   "cell_type": "markdown",
   "metadata": {},
   "source": [
    "##### Risk calculation by avg transaction count decrease by quarter"
   ]
  },
  {
   "cell_type": "code",
   "execution_count": 256,
   "metadata": {},
   "outputs": [
    {
     "name": "stdout",
     "output_type": "stream",
     "text": [
      "41\n"
     ]
    }
   ],
   "source": [
    "\n",
    "risky_avg_transaction = []\n",
    "for idx,row in account_start_date.iterrows():\n",
    "    if  (row[2017004] > row[2018001] ) & (row[2018001] > row[2018002] ) & (row[2018002] > row[2018003] ) & (row[2018003] > row[2018004] ) & (row[2018004] > row[2019001] )   :\n",
    "        risky_avg_transaction.append(idx)\n",
    "        \n",
    "print len(risky_avg_transaction)\n",
    "account_start_date =account_start_date.reset_index()\n",
    "account_start_date[\"risky_by_avg_tran\"] = map(lambda x: 1 if x in (risky_avg_transaction)  else 0,account_start_date.account)\n",
    "account_start_date[account_start_date[\"risky_by_avg_tran\"]>0]\n",
    "account_start_date.set_index(\"account\",inplace=True)\n",
    "\n",
    "       "
   ]
  },
  {
   "cell_type": "code",
   "execution_count": 257,
   "metadata": {},
   "outputs": [],
   "source": [
    "account_active_days_q = df.groupby([\"account\",\"year_quarter\"])['new_date'].count().reset_index()\n",
    "account_active_days_q.columns = [\"account\",\"year_quarter\",\"active_days_q\"]\n",
    "account_active_days_q= pd.pivot_table(data=account_active_days_q,index=account_active_days_q.account,columns=account_active_days_q.year_quarter,\n",
    "                                  values='active_days_q',aggfunc='sum' )\n",
    "account_active_days_q.fillna(0,inplace=True)\n"
   ]
  },
  {
   "cell_type": "markdown",
   "metadata": {},
   "source": [
    "##### Risk calculation by id avg active days count decrease by quarter"
   ]
  },
  {
   "cell_type": "code",
   "execution_count": 258,
   "metadata": {},
   "outputs": [
    {
     "name": "stdout",
     "output_type": "stream",
     "text": [
      "35\n"
     ]
    }
   ],
   "source": [
    "risky_avg_active_days = []\n",
    "for idx,row in account_active_days_q.iterrows():\n",
    "    if  (row[2017004] > row[2018001] ) & (row[2018001] > row[2018002] ) & (row[2018002] > row[2018003] ) & (row[2018003] > row[2018004] ) & (row[2018004] > row[2019001] )   :\n",
    "        risky_avg_active_days.append(idx)\n",
    "        \n",
    "print len(risky_avg_active_days)\n",
    "account_active_days_q =account_active_days_q.reset_index()\n",
    "account_active_days_q[\"risky_by_avg_active_days\"] = map(lambda x: 1 if x in (risky_avg_active_days)  else 0,account_active_days_q.account)\n",
    "account_active_days_q.set_index(\"account\",inplace=True)"
   ]
  },
  {
   "cell_type": "code",
   "execution_count": 260,
   "metadata": {},
   "outputs": [],
   "source": [
    "account_active_amount_q = df.groupby([\"account\",\"year_quarter\"])['amount'].sum().reset_index()\n",
    "account_active_amount_q.columns = [\"account\",\"year_quarter\",\"active_amount_q\"]\n",
    "account_active_amount_q= pd.pivot_table(data=account_active_amount_q,index=account_active_amount_q.account,columns=account_active_amount_q.year_quarter,\n",
    "                                  values='active_amount_q',aggfunc='mean' )\n",
    "account_active_amount_q.fillna(0,inplace=True)\n"
   ]
  },
  {
   "cell_type": "markdown",
   "metadata": {},
   "source": [
    "##### Risk calculation by avg amount decrease by quarter"
   ]
  },
  {
   "cell_type": "code",
   "execution_count": 262,
   "metadata": {},
   "outputs": [
    {
     "name": "stdout",
     "output_type": "stream",
     "text": [
      "14\n"
     ]
    }
   ],
   "source": [
    "risky_avg_amount = []\n",
    "for idx,row in account_active_amount_q.iterrows():\n",
    "    if  (row[2017004] > row[2018001] ) & (row[2018001] > row[2018002] ) & (row[2018002] > row[2018003] ) & (row[2018003] > row[2018004] ) & (row[2018004] > row[2019001] )   :\n",
    "        risky_avg_amount.append(idx)\n",
    "        \n",
    "print len(risky_avg_amount)\n",
    "account_active_amount_q =account_active_amount_q.reset_index()\n",
    "account_active_amount_q[\"risky_by_avg_amount\"] = map(lambda x: 1 if x in (risky_avg_amount)  else 0,account_active_amount_q.account)\n",
    "account_active_amount_q.set_index(\"account\",inplace=True)"
   ]
  },
  {
   "cell_type": "code",
   "execution_count": 264,
   "metadata": {},
   "outputs": [],
   "source": [
    "account_active_amount_q.columns = [\"1973002_amount\", \"2017003_amount\", \"2017004_amount\", \"2018001_amount\", \"2018002_amount\", \"2018003_amount\", \"2018004_amount\",\"2019001_amount\",\"risky_by_amount\"]\n",
    "account_active_amount_q.drop(\"1973002_amount\",inplace=True,axis=1)\n",
    "account_active_days_q.columns = [\"1973002_days\", \"2017003_days\", \"2017004_days\", \"2018001_days\", \"2018002_days\", \"2018003_days\", \"2018004_days\",\"2019001_days\",\"risky_by_active_days\"]\n",
    "account_active_days_q.drop(\"1973002_days\",inplace=True,axis=1)\n",
    "account_start_date.columns = [\"1973002_avg_tran\", \"2017003_avg_tran\", \"2017004_avg_tran\", \"2018001_avg_tran\", \"2018002_avg_tran\", \"2018003_avg_tran\", \"2018004_avg_tran\",\"2019001_avg_tran\",\"risky_by_avg_trans\"]\n",
    "account_start_date.drop(\"1973002_avg_tran\",inplace=True,axis=1)\n"
   ]
  },
  {
   "cell_type": "code",
   "execution_count": 318,
   "metadata": {},
   "outputs": [
    {
     "name": "stdout",
     "output_type": "stream",
     "text": [
      "                                  2017003_amount  2017004_amount  \\\n",
      "account                                                            \n",
      "00023fda963eb48839a670cbdf74cd21           0.000          1.546k   \n",
      "000458145e8ff76fb2907417d806d098           0.000           0.000   \n",
      "000b2159adf33dcb44291291e0575122         29.845k           0.000   \n",
      "000cff3bf5b20e8bb5734eb0aeef6673          4.783k         20.820k   \n",
      "000f6054933c882efb96bc34b91c8924           0.000         262.636   \n",
      "\n",
      "                                  2018001_amount  2018002_amount  \\\n",
      "account                                                            \n",
      "00023fda963eb48839a670cbdf74cd21          1.923k         121.726   \n",
      "000458145e8ff76fb2907417d806d098          1.556k          4.022k   \n",
      "000b2159adf33dcb44291291e0575122           0.000           0.000   \n",
      "000cff3bf5b20e8bb5734eb0aeef6673         40.833k         42.041k   \n",
      "000f6054933c882efb96bc34b91c8924         668.867          2.565k   \n",
      "\n",
      "                                  2018003_amount  2018004_amount  \\\n",
      "account                                                            \n",
      "00023fda963eb48839a670cbdf74cd21          5.604k          4.403k   \n",
      "000458145e8ff76fb2907417d806d098          3.569k          5.929k   \n",
      "000b2159adf33dcb44291291e0575122           0.000           0.000   \n",
      "000cff3bf5b20e8bb5734eb0aeef6673         29.980k         35.977k   \n",
      "000f6054933c882efb96bc34b91c8924          2.653k          2.538k   \n",
      "\n",
      "                                  2019001_amount  risky_by_amount  \\\n",
      "account                                                             \n",
      "00023fda963eb48839a670cbdf74cd21          6.567k                0   \n",
      "000458145e8ff76fb2907417d806d098          6.847k                0   \n",
      "000b2159adf33dcb44291291e0575122           0.000                0   \n",
      "000cff3bf5b20e8bb5734eb0aeef6673         379.010                0   \n",
      "000f6054933c882efb96bc34b91c8924          6.767k                0   \n",
      "\n",
      "                                  2017003_avg_tran  2017004_avg_tran  \\\n",
      "account                                                                \n",
      "00023fda963eb48839a670cbdf74cd21             0.000            84.000   \n",
      "000458145e8ff76fb2907417d806d098             0.000             0.000   \n",
      "000b2159adf33dcb44291291e0575122            9.636k             0.000   \n",
      "000cff3bf5b20e8bb5734eb0aeef6673            1.056k            4.704k   \n",
      "000f6054933c882efb96bc34b91c8924             0.000            84.000   \n",
      "\n",
      "                                          ...           2019001_avg_tran  \\\n",
      "account                                   ...                              \n",
      "00023fda963eb48839a670cbdf74cd21          ...                    518.000   \n",
      "000458145e8ff76fb2907417d806d098          ...                     1.054k   \n",
      "000b2159adf33dcb44291291e0575122          ...                      0.000   \n",
      "000cff3bf5b20e8bb5734eb0aeef6673          ...                     80.000   \n",
      "000f6054933c882efb96bc34b91c8924          ...                     1.246k   \n",
      "\n",
      "                                  risky_by_avg_trans  2017003_days  \\\n",
      "account                                                              \n",
      "00023fda963eb48839a670cbdf74cd21                   0         0.000   \n",
      "000458145e8ff76fb2907417d806d098                   0         0.000   \n",
      "000b2159adf33dcb44291291e0575122                   0        44.000   \n",
      "000cff3bf5b20e8bb5734eb0aeef6673                   0        32.000   \n",
      "000f6054933c882efb96bc34b91c8924                   0         0.000   \n",
      "\n",
      "                                  2017004_days  2018001_days  2018002_days  \\\n",
      "account                                                                      \n",
      "00023fda963eb48839a670cbdf74cd21         6.000         9.000         2.000   \n",
      "000458145e8ff76fb2907417d806d098         0.000         7.000        26.000   \n",
      "000b2159adf33dcb44291291e0575122         0.000         0.000         0.000   \n",
      "000cff3bf5b20e8bb5734eb0aeef6673        89.000        90.000        91.000   \n",
      "000f6054933c882efb96bc34b91c8924         6.000         7.000        46.000   \n",
      "\n",
      "                                  2018003_days  2018004_days  2019001_days  \\\n",
      "account                                                                      \n",
      "00023fda963eb48839a670cbdf74cd21         8.000        20.000        32.000   \n",
      "000458145e8ff76fb2907417d806d098        27.000        45.000        39.000   \n",
      "000b2159adf33dcb44291291e0575122         0.000         0.000         0.000   \n",
      "000cff3bf5b20e8bb5734eb0aeef6673        89.000        92.000         2.000   \n",
      "000f6054933c882efb96bc34b91c8924        46.000        46.000        49.000   \n",
      "\n",
      "                                  risky_by_active_days  \n",
      "account                                                 \n",
      "00023fda963eb48839a670cbdf74cd21                     0  \n",
      "000458145e8ff76fb2907417d806d098                     0  \n",
      "000b2159adf33dcb44291291e0575122                     0  \n",
      "000cff3bf5b20e8bb5734eb0aeef6673                     0  \n",
      "000f6054933c882efb96bc34b91c8924                     0  \n",
      "\n",
      "[5 rows x 24 columns]\n"
     ]
    }
   ],
   "source": [
    "account_active_amount_q=account_active_amount_q.join(account_start_date)\n",
    "print account_active_amount_q.head(1)\n",
    "account_active_amount_q = account_active_amount_q.join(account_active_days_q)\n",
    "print account_active_amount_q.head()\n",
    "model_df = model_df.join(account_active_amount_q)\n"
   ]
  },
  {
   "cell_type": "code",
   "execution_count": 319,
   "metadata": {},
   "outputs": [
    {
     "data": {
      "text/html": [
       "<div>\n",
       "<style>\n",
       "    .dataframe thead tr:only-child th {\n",
       "        text-align: right;\n",
       "    }\n",
       "\n",
       "    .dataframe thead th {\n",
       "        text-align: left;\n",
       "    }\n",
       "\n",
       "    .dataframe tbody tr th {\n",
       "        vertical-align: top;\n",
       "    }\n",
       "</style>\n",
       "<table border=\"1\" class=\"dataframe\">\n",
       "  <thead>\n",
       "    <tr style=\"text-align: right;\">\n",
       "      <th></th>\n",
       "      <th>avg_amount</th>\n",
       "      <th>avg_transaction</th>\n",
       "      <th>active_days</th>\n",
       "      <th>days_seen_last_transaction</th>\n",
       "      <th>risky_by_last_activity</th>\n",
       "      <th>2017003_amount</th>\n",
       "      <th>2017004_amount</th>\n",
       "      <th>2018001_amount</th>\n",
       "      <th>2018002_amount</th>\n",
       "      <th>2018003_amount</th>\n",
       "      <th>...</th>\n",
       "      <th>2019001_avg_tran</th>\n",
       "      <th>risky_by_avg_trans</th>\n",
       "      <th>2017003_days</th>\n",
       "      <th>2017004_days</th>\n",
       "      <th>2018001_days</th>\n",
       "      <th>2018002_days</th>\n",
       "      <th>2018003_days</th>\n",
       "      <th>2018004_days</th>\n",
       "      <th>2019001_days</th>\n",
       "      <th>risky_by_active_days</th>\n",
       "    </tr>\n",
       "  </thead>\n",
       "  <tbody>\n",
       "    <tr>\n",
       "      <th>count</th>\n",
       "      <td>10.001k</td>\n",
       "      <td>10.001k</td>\n",
       "      <td>10.001k</td>\n",
       "      <td>10.001k</td>\n",
       "      <td>10.001k</td>\n",
       "      <td>10.001k</td>\n",
       "      <td>10.001k</td>\n",
       "      <td>10.001k</td>\n",
       "      <td>10.001k</td>\n",
       "      <td>10.001k</td>\n",
       "      <td>...</td>\n",
       "      <td>10.001k</td>\n",
       "      <td>10.001k</td>\n",
       "      <td>10.001k</td>\n",
       "      <td>10.001k</td>\n",
       "      <td>10.001k</td>\n",
       "      <td>10.001k</td>\n",
       "      <td>10.001k</td>\n",
       "      <td>10.001k</td>\n",
       "      <td>10.001k</td>\n",
       "      <td>10.001k</td>\n",
       "    </tr>\n",
       "    <tr>\n",
       "      <th>mean</th>\n",
       "      <td>352.651</td>\n",
       "      <td>35.666</td>\n",
       "      <td>193.394</td>\n",
       "      <td>62.929</td>\n",
       "      <td>207.379m</td>\n",
       "      <td>2.542k</td>\n",
       "      <td>6.821k</td>\n",
       "      <td>7.189k</td>\n",
       "      <td>9.146k</td>\n",
       "      <td>10.420k</td>\n",
       "      <td>...</td>\n",
       "      <td>1.278k</td>\n",
       "      <td>4.100m</td>\n",
       "      <td>7.783</td>\n",
       "      <td>21.844</td>\n",
       "      <td>23.962</td>\n",
       "      <td>31.359</td>\n",
       "      <td>38.105</td>\n",
       "      <td>41.307</td>\n",
       "      <td>29.034</td>\n",
       "      <td>3.500m</td>\n",
       "    </tr>\n",
       "    <tr>\n",
       "      <th>std</th>\n",
       "      <td>2.093k</td>\n",
       "      <td>46.044</td>\n",
       "      <td>106.555</td>\n",
       "      <td>109.211</td>\n",
       "      <td>405.450m</td>\n",
       "      <td>12.344k</td>\n",
       "      <td>29.354k</td>\n",
       "      <td>24.056k</td>\n",
       "      <td>29.484k</td>\n",
       "      <td>29.843k</td>\n",
       "      <td>...</td>\n",
       "      <td>3.616k</td>\n",
       "      <td>63.900m</td>\n",
       "      <td>12.746</td>\n",
       "      <td>27.187</td>\n",
       "      <td>25.786</td>\n",
       "      <td>27.481</td>\n",
       "      <td>26.622</td>\n",
       "      <td>28.746</td>\n",
       "      <td>24.280</td>\n",
       "      <td>59.057m</td>\n",
       "    </tr>\n",
       "    <tr>\n",
       "      <th>min</th>\n",
       "      <td>5.727</td>\n",
       "      <td>0.000</td>\n",
       "      <td>1.000</td>\n",
       "      <td>0.000</td>\n",
       "      <td>0.000</td>\n",
       "      <td>0.000</td>\n",
       "      <td>0.000</td>\n",
       "      <td>0.000</td>\n",
       "      <td>0.000</td>\n",
       "      <td>0.000</td>\n",
       "      <td>...</td>\n",
       "      <td>0.000</td>\n",
       "      <td>0.000</td>\n",
       "      <td>0.000</td>\n",
       "      <td>0.000</td>\n",
       "      <td>0.000</td>\n",
       "      <td>0.000</td>\n",
       "      <td>0.000</td>\n",
       "      <td>0.000</td>\n",
       "      <td>0.000</td>\n",
       "      <td>0.000</td>\n",
       "    </tr>\n",
       "    <tr>\n",
       "      <th>25%</th>\n",
       "      <td>88.750</td>\n",
       "      <td>20.042</td>\n",
       "      <td>116.000</td>\n",
       "      <td>0.000</td>\n",
       "      <td>0.000</td>\n",
       "      <td>0.000</td>\n",
       "      <td>0.000</td>\n",
       "      <td>0.000</td>\n",
       "      <td>186.100</td>\n",
       "      <td>1.127k</td>\n",
       "      <td>...</td>\n",
       "      <td>0.000</td>\n",
       "      <td>0.000</td>\n",
       "      <td>0.000</td>\n",
       "      <td>0.000</td>\n",
       "      <td>0.000</td>\n",
       "      <td>4.000</td>\n",
       "      <td>16.000</td>\n",
       "      <td>16.000</td>\n",
       "      <td>0.000</td>\n",
       "      <td>0.000</td>\n",
       "    </tr>\n",
       "    <tr>\n",
       "      <th>50%</th>\n",
       "      <td>175.610</td>\n",
       "      <td>25.754</td>\n",
       "      <td>168.000</td>\n",
       "      <td>2.000</td>\n",
       "      <td>0.000</td>\n",
       "      <td>0.000</td>\n",
       "      <td>375.368</td>\n",
       "      <td>1.196k</td>\n",
       "      <td>2.590k</td>\n",
       "      <td>3.823k</td>\n",
       "      <td>...</td>\n",
       "      <td>611.000</td>\n",
       "      <td>0.000</td>\n",
       "      <td>0.000</td>\n",
       "      <td>8.000</td>\n",
       "      <td>17.000</td>\n",
       "      <td>27.000</td>\n",
       "      <td>36.000</td>\n",
       "      <td>42.000</td>\n",
       "      <td>29.000</td>\n",
       "      <td>0.000</td>\n",
       "    </tr>\n",
       "    <tr>\n",
       "      <th>75%</th>\n",
       "      <td>332.518</td>\n",
       "      <td>36.100</td>\n",
       "      <td>242.000</td>\n",
       "      <td>86.000</td>\n",
       "      <td>0.000</td>\n",
       "      <td>972.266</td>\n",
       "      <td>4.540k</td>\n",
       "      <td>5.680k</td>\n",
       "      <td>8.035k</td>\n",
       "      <td>9.878k</td>\n",
       "      <td>...</td>\n",
       "      <td>1.504k</td>\n",
       "      <td>0.000</td>\n",
       "      <td>12.000</td>\n",
       "      <td>39.000</td>\n",
       "      <td>41.000</td>\n",
       "      <td>51.000</td>\n",
       "      <td>58.000</td>\n",
       "      <td>65.000</td>\n",
       "      <td>50.000</td>\n",
       "      <td>0.000</td>\n",
       "    </tr>\n",
       "    <tr>\n",
       "      <th>max</th>\n",
       "      <td>130.614k</td>\n",
       "      <td>2.212k</td>\n",
       "      <td>578.000</td>\n",
       "      <td>547.000</td>\n",
       "      <td>1.000</td>\n",
       "      <td>499.286k</td>\n",
       "      <td>1.148M</td>\n",
       "      <td>912.049k</td>\n",
       "      <td>1.093M</td>\n",
       "      <td>1.469M</td>\n",
       "      <td>...</td>\n",
       "      <td>228.239k</td>\n",
       "      <td>1.000</td>\n",
       "      <td>46.000</td>\n",
       "      <td>92.000</td>\n",
       "      <td>90.000</td>\n",
       "      <td>91.000</td>\n",
       "      <td>92.000</td>\n",
       "      <td>92.000</td>\n",
       "      <td>74.000</td>\n",
       "      <td>1.000</td>\n",
       "    </tr>\n",
       "  </tbody>\n",
       "</table>\n",
       "<p>8 rows × 29 columns</p>\n",
       "</div>"
      ],
      "text/plain": [
       "       avg_amount  avg_transaction  active_days  days_seen_last_transaction  \\\n",
       "count     10.001k          10.001k      10.001k                     10.001k   \n",
       "mean      352.651           35.666      193.394                      62.929   \n",
       "std        2.093k           46.044      106.555                     109.211   \n",
       "min         5.727            0.000        1.000                       0.000   \n",
       "25%        88.750           20.042      116.000                       0.000   \n",
       "50%       175.610           25.754      168.000                       2.000   \n",
       "75%       332.518           36.100      242.000                      86.000   \n",
       "max      130.614k           2.212k      578.000                     547.000   \n",
       "\n",
       "       risky_by_last_activity  2017003_amount  2017004_amount  2018001_amount  \\\n",
       "count                 10.001k         10.001k         10.001k         10.001k   \n",
       "mean                 207.379m          2.542k          6.821k          7.189k   \n",
       "std                  405.450m         12.344k         29.354k         24.056k   \n",
       "min                     0.000           0.000           0.000           0.000   \n",
       "25%                     0.000           0.000           0.000           0.000   \n",
       "50%                     0.000           0.000         375.368          1.196k   \n",
       "75%                     0.000         972.266          4.540k          5.680k   \n",
       "max                     1.000        499.286k          1.148M        912.049k   \n",
       "\n",
       "       2018002_amount  2018003_amount          ...           2019001_avg_tran  \\\n",
       "count         10.001k         10.001k          ...                    10.001k   \n",
       "mean           9.146k         10.420k          ...                     1.278k   \n",
       "std           29.484k         29.843k          ...                     3.616k   \n",
       "min             0.000           0.000          ...                      0.000   \n",
       "25%           186.100          1.127k          ...                      0.000   \n",
       "50%            2.590k          3.823k          ...                    611.000   \n",
       "75%            8.035k          9.878k          ...                     1.504k   \n",
       "max            1.093M          1.469M          ...                   228.239k   \n",
       "\n",
       "       risky_by_avg_trans  2017003_days  2017004_days  2018001_days  \\\n",
       "count             10.001k       10.001k       10.001k       10.001k   \n",
       "mean               4.100m         7.783        21.844        23.962   \n",
       "std               63.900m        12.746        27.187        25.786   \n",
       "min                 0.000         0.000         0.000         0.000   \n",
       "25%                 0.000         0.000         0.000         0.000   \n",
       "50%                 0.000         0.000         8.000        17.000   \n",
       "75%                 0.000        12.000        39.000        41.000   \n",
       "max                 1.000        46.000        92.000        90.000   \n",
       "\n",
       "       2018002_days  2018003_days  2018004_days  2019001_days  \\\n",
       "count       10.001k       10.001k       10.001k       10.001k   \n",
       "mean         31.359        38.105        41.307        29.034   \n",
       "std          27.481        26.622        28.746        24.280   \n",
       "min           0.000         0.000         0.000         0.000   \n",
       "25%           4.000        16.000        16.000         0.000   \n",
       "50%          27.000        36.000        42.000        29.000   \n",
       "75%          51.000        58.000        65.000        50.000   \n",
       "max          91.000        92.000        92.000        74.000   \n",
       "\n",
       "       risky_by_active_days  \n",
       "count               10.001k  \n",
       "mean                 3.500m  \n",
       "std                 59.057m  \n",
       "min                   0.000  \n",
       "25%                   0.000  \n",
       "50%                   0.000  \n",
       "75%                   0.000  \n",
       "max                   1.000  \n",
       "\n",
       "[8 rows x 29 columns]"
      ]
     },
     "execution_count": 319,
     "metadata": {},
     "output_type": "execute_result"
    }
   ],
   "source": [
    "model_df.describe()"
   ]
  },
  {
   "cell_type": "markdown",
   "metadata": {},
   "source": [
    "#### Adding target variable depending upong risk featurs from all risky features\n",
    "\n",
    "## Equally weighted model\n",
    "#### In this model I am giving equal weightage to all three risky factors (risky_by_active_days,risky_by_amount,risky_by_avg_trans)\n",
    "#### So if either of them is true then target account is consider to be risky."
   ]
  },
  {
   "cell_type": "code",
   "execution_count": 328,
   "metadata": {},
   "outputs": [],
   "source": [
    "model_df.reset_index(inplace=True)\n",
    "model_df['target'] = model_df.apply(lambda x: 1 if (x.risky_by_active_days==1) or (x.risky_by_amount==1) or (x.risky_by_avg_trans == 1) or x.risky_by_last_activity == 1 else 0,axis=1)\n",
    "target = model_df[\"target\"]\n",
    "model_df.drop(['target'],inplace=True,axis=1)\n",
    "model_df.head()\n"
   ]
  },
  {
   "cell_type": "code",
   "execution_count": 383,
   "metadata": {},
   "outputs": [
    {
     "data": {
      "text/plain": [
       "0    7879\n",
       "1    2122\n",
       "Name: target, dtype: int64"
      ]
     },
     "execution_count": 383,
     "metadata": {},
     "output_type": "execute_result"
    }
   ],
   "source": [
    "target.value_counts()\n"
   ]
  },
  {
   "cell_type": "markdown",
   "metadata": {},
   "source": [
    "## Model Creation"
   ]
  },
  {
   "cell_type": "code",
   "execution_count": 390,
   "metadata": {},
   "outputs": [
    {
     "name": "stdout",
     "output_type": "stream",
     "text": [
      "Training set has 8000 samples.\n",
      "Testing set has 2001 samples.\n"
     ]
    }
   ],
   "source": [
    "from sklearn.cross_validation import train_test_split\n",
    "\n",
    "# Split the 'features' and 'income' data into training and testing sets\n",
    "X_train, X_test, y_train, y_test = train_test_split(model_df, \n",
    "                                                    target, \n",
    "                                                    test_size = 0.2, \n",
    "                                                    random_state = 0)\n",
    "\n",
    "# Show the results of the split\n",
    "print \"Training set has {} samples.\".format(X_train.shape[0])\n",
    "print \"Testing set has {} samples.\".format(X_test.shape[0])"
   ]
  },
  {
   "cell_type": "markdown",
   "metadata": {},
   "source": [
    "### Baseline model\n",
    "\n",
    "#### Naive predictor considering model predicated all account risky accounts."
   ]
  },
  {
   "cell_type": "code",
   "execution_count": 333,
   "metadata": {},
   "outputs": [
    {
     "name": "stdout",
     "output_type": "stream",
     "text": [
      "2122 7879\n",
      "Naive Predictor: [Accuracy score: 0.2122, F-score: 0.2519]\n"
     ]
    }
   ],
   "source": [
    "TP = np.sum(target) # Counting the ones as this is the naive case. \n",
    "\n",
    "FP = target.count() - TP # Specific to the naive case\n",
    "\n",
    "TN = 0 # No predicted negatives in the naive case\n",
    "FN = 0 # No predicted negatives in the naive case\n",
    "print TP,FP\n",
    "# TODO: Calculate accuracy, precision and recall\n",
    "\n",
    "accuracy = float(TP)/float(target.count())\n",
    "recall = 1\n",
    "precision = accuracy\n",
    "beta= 0.5\n",
    "\n",
    "\n",
    "# The formula for fbeta score can be written as (1 + beta**2) * (precision * recall) / ((beta**2 * precision) + recall)\n",
    "fscore = (1 + 0.25) * (precision * recall) / ((0.25 * precision) + recall)\n",
    "\n",
    "# Print the results \n",
    "print \"Naive Predictor: [Accuracy score: {:.4f}, F-score: {:.4f}]\".format(accuracy, fscore)"
   ]
  },
  {
   "cell_type": "markdown",
   "metadata": {},
   "source": [
    "##### Building a train predictor to compare multiple models\n",
    "### Here metrics that I am going to use to compare different models is F1 score, accuracy "
   ]
  },
  {
   "cell_type": "code",
   "execution_count": 337,
   "metadata": {},
   "outputs": [],
   "source": [
    "from sklearn.metrics import fbeta_score\n",
    "from sklearn.metrics import accuracy_score\n",
    "from sklearn.metrics import make_scorer, precision_recall_curve,confusion_matrix\n",
    "from sklearn import cross_validation, metrics\n",
    "import visuals as vs\n",
    "import time\n",
    "def train_predict(learner, sample_size, X_train, y_train, X_test, y_test): \n",
    "\n",
    "    results = {}\n",
    "    \n",
    "  \n",
    "    start = time.time()\n",
    "    learner = learner.fit(X_train[:sample_size], y_train[:sample_size])\n",
    "    end = time.time()\n",
    "    \n",
    "    results['train_time'] = end - start\n",
    "    \n",
    "    start = time.time()\n",
    "    predictions_test = learner.predict(X_test)\n",
    "    predictions_train = learner.predict(X_train)\n",
    "    end = time.time()\n",
    "    \n",
    "    results['pred_time'] = end - start\n",
    "    results['acc_train'] = accuracy_score(y_train, predictions_train)\n",
    "        \n",
    "    results['acc_test'] = accuracy_score(y_test, predictions_test)\n",
    "    \n",
    "    results['f_train'] = fbeta_score(y_train, predictions_train, 0.5,average='weighted')\n",
    "        \n",
    "    results['f_test'] = fbeta_score(y_test, predictions_test, 0.5,average='weighted')\n",
    "    matrix =  confusion_matrix(y_test, predictions_test)\n",
    "    TP =  matrix[0][0]\n",
    "    FP = matrix[0][1]  # Specific to the naive case\n",
    "\n",
    "    TN = matrix[1][1] # No predicted negatives in the naive case\n",
    "    FN = matrix[1][0] # No predicted negatives in the naive case\n",
    "\n",
    "    # TODO: Calculate accuracy, precision and recall\n",
    "    accuracy = metrics.accuracy_score(y_test, predictions_test)\n",
    "    recall = float(TP )/  float(TP + FN)\n",
    "    precision = float(TP )/ float(TP + FP)\n",
    "    #print \"precision: {}, recall: {}\".format(recall, precision) \n",
    "    beta = 0.5\n",
    "    \n",
    "    # TODO: Calculate F-score using the formula above for beta = 0.5 and correct values for precision and recall.\n",
    "    # HINT: The formula above can be written as (1 + beta**2) * (precision * recall) / ((beta**2 * precision) + recall)\n",
    "    fscore = (1 + 0.25) * (precision * recall) / ((0.25 * precision) + recall)\n",
    "    print \"Test fscore with beta 0.5 : \", fscore   \n",
    "    print \"{} trained on {} samples.\".format(learner.__class__.__name__, sample_size)\n",
    "    dataframe = pd.DataFrame(predictions_train,y_train)  \n",
    "    dataframe.to_csv(learner.__class__.__name__+\".txt\")\n",
    "    # Return the results\n",
    "    return results"
   ]
  },
  {
   "cell_type": "code",
   "execution_count": 392,
   "metadata": {},
   "outputs": [
    {
     "name": "stdout",
     "output_type": "stream",
     "text": [
      "Test fscore with beta 0.5 :  0.974649273936\n",
      "LogisticRegressionCV trained on 80 samples.\n",
      "Test fscore with beta 0.5 :  0.98071931776\n",
      "LogisticRegressionCV trained on 800 samples.\n",
      "Test fscore with beta 0.5 :  0.98071931776\n",
      "LogisticRegressionCV trained on 8000 samples.\n",
      "Test fscore with beta 0.5 :  0.961397954213\n",
      "KNeighborsClassifier trained on 80 samples.\n",
      "Test fscore with beta 0.5 :  0.95799876467\n",
      "KNeighborsClassifier trained on 800 samples.\n",
      "Test fscore with beta 0.5 :  0.960871718673\n",
      "KNeighborsClassifier trained on 8000 samples.\n",
      "Test fscore with beta 0.5 :  0.9988914891\n",
      "RandomForestClassifier trained on 80 samples.\n",
      "Test fscore with beta 0.5 :  0.999630223099\n",
      "RandomForestClassifier trained on 800 samples.\n",
      "Test fscore with beta 0.5 :  1.0\n",
      "RandomForestClassifier trained on 8000 samples.\n"
     ]
    },
    {
     "data": {
      "image/png": "[encoded data removed]",
      "text/plain": [
       "<matplotlib.figure.Figure at 0xcf5d5438>"
      ]
     },
     "metadata": {},
     "output_type": "display_data"
    }
   ],
   "source": [
    "from sklearn.ensemble import RandomForestClassifier\n",
    "from sklearn import linear_model\n",
    "from sklearn.neighbors import KNeighborsClassifier\n",
    "from sklearn.ensemble import AdaBoostClassifier\n",
    "from sklearn.tree import DecisionTreeClassifier\n",
    "from sklearn import svm\n",
    "# TODO: Initialize the three models\n",
    "clf_A =  linear_model.LogisticRegressionCV(solver='lbfgs',random_state=40)\n",
    "clf_B = KNeighborsClassifier()\n",
    "clf_C = RandomForestClassifier(random_state=40)\n",
    "#clf_D = RandomForestClassifier(random_state = 40)\n",
    "\n",
    "samples_100 = len(y_train)\n",
    "samples_10 = int(samples_100 * 0.1)\n",
    "samples_1 = int(samples_100 * 0.01)\n",
    "\n",
    "# Collect results on the learners\n",
    "results = {}\n",
    "for clf in [clf_A, clf_B, clf_C]:\n",
    "    clf_name = clf.__class__.__name__\n",
    "    results[clf_name] = {}\n",
    "    for i, samples in enumerate([samples_1,samples_10,samples_100]):\n",
    "        results[clf_name][i]=train_predict(clf, samples, X_train, y_train, X_test, y_test)\n",
    "\n",
    "vs.evaluate(results, accuracy, fscore)"
   ]
  },
  {
   "cell_type": "markdown",
   "metadata": {},
   "source": [
    "####  Looking at the graph I can say Randomforest is performing well on testing set. It outperfrom other two model in all the sample cases. With High accuracy and high FScore I choose Randomforest as best model. Also if you see at training time requried out of three models KNeighborsClassifier take highest time so training time wise also Randomforest is performing better."
   ]
  },
  {
   "cell_type": "code",
   "execution_count": 391,
   "metadata": {},
   "outputs": [
    {
     "name": "stdout",
     "output_type": "stream",
     "text": [
      "\n",
      "Optimized Model\n",
      "------\n",
      "Final accuracy score on the testing data: 0.9985\n",
      "Final F-score on the testing data: 0.9985\n"
     ]
    }
   ],
   "source": [
    "# Import 'GridSearchCV', 'make_scorer', and any other necessary libraries\n",
    "from sklearn.grid_search import GridSearchCV\n",
    "from sklearn.metrics import make_scorer\n",
    "\n",
    "clf = RandomForestClassifier(n_estimators=200,max_depth=15,min_samples_split=117,min_samples_leaf=3,max_leaf_nodes=52)\n",
    "\n",
    "k = np.arange(20)+1\n",
    "parameters = {\n",
    "              \"max_leaf_nodes\": np.arange(2,60,5),\n",
    "              #\"n_estimators\": np.arange(2, 300, 2),\n",
    "              #\"max_depth\": np.arange(1, 28, 1),\n",
    "              #\"min_samples_split\": np.arange(2,150,1),\n",
    "              #\"min_samples_leaf\": np.arange(1,60,1),\n",
    "              #\"max_leaf_nodes\": np.arange(2,60,1),\n",
    "              #\"min_weight_fraction_leaf\": np.arange(0.1,0.4, 0.1)}\n",
    "             }\n",
    "\n",
    "#  Make an fbeta_score scoring object using make_scorer()\n",
    "scorer = make_scorer(fbeta_score, beta=0.5,average='weighted')\n",
    "\n",
    "#  Perform grid search on the classifier using 'scorer' as the scoring method using GridSearchCV()\n",
    "grid_obj = GridSearchCV(estimator=clf,param_grid=parameters,scoring=scorer,cv=10)\n",
    "\n",
    "#  Fit the grid search object to the training data and find the optimal parameters using fit()\n",
    "grid_fit = clf.fit(X_train,y_train)\n",
    "\n",
    "# Get the estimator\n",
    "#best_clf = grid_fit.best_estimator_\n",
    "\n",
    "# Make predictions using the unoptimized and model\n",
    "predictions = (clf.fit(X_train, y_train)).predict(X_test)\n",
    "#best_predictions = best_clf.predict(X_test)\n",
    "\n",
    "# Report the before-and-afterscores\n",
    "\n",
    "print \"\\nOptimized Model\\n------\"\n",
    "print \"Final accuracy score on the testing data: {:.4f}\".format(accuracy_score(y_test, predictions))\n",
    "print \"Final F-score on the testing data: {:.4f}\".format(fbeta_score(y_test, predictions, beta = 0.5,average='weighted'))"
   ]
  },
  {
   "cell_type": "markdown",
   "metadata": {},
   "source": [
    "#### Tuned model is not improving any score or accuracy "
   ]
  },
  {
   "cell_type": "code",
   "execution_count": 393,
   "metadata": {
    "collapsed": true
   },
   "outputs": [],
   "source": [
    "import pickle\n",
    "filename= \"RandomForest_equally_weighted_model.sav\"\n",
    "pickle.dump(clf_C,open(filename,\"wb\"))"
   ]
  },
  {
   "cell_type": "markdown",
   "metadata": {},
   "source": [
    "### Feature Importance "
   ]
  },
  {
   "cell_type": "code",
   "execution_count": 346,
   "metadata": {},
   "outputs": [
    {
     "name": "stdout",
     "output_type": "stream",
     "text": [
      "Feature ranking:\n",
      "1. feature days_seen_last_transaction (0.246365)\n",
      "2. feature risky_by_last_activity (0.220689)\n",
      "3. feature 2019001_days (0.110422)\n",
      "4. feature 2019001_avg_tran (0.093649)\n",
      "5. feature 2019001_amount (0.090252)\n",
      "6. feature 2018004_days (0.064807)\n",
      "7. feature 2018004_amount (0.062413)\n",
      "8. feature 2018004_avg_tran (0.059789)\n",
      "9. feature 2018003_days (0.009692)\n",
      "10. feature 2018003_avg_tran (0.009351)\n",
      "11. feature risky_by_avg_trans (0.006698)\n",
      "12. feature risky_by_active_days (0.005558)\n",
      "13. feature 2018003_amount (0.004926)\n",
      "14. feature 2017004_amount (0.003594)\n",
      "15. feature 2017003_avg_tran (0.002269)\n",
      "16. feature 2017003_amount (0.001406)\n",
      "17. feature 2018001_amount (0.001257)\n",
      "18. feature 2017003_days (0.001203)\n",
      "19. feature 2017004_avg_tran (0.001080)\n",
      "20. feature 2018001_days (0.000874)\n",
      "21. feature risky_by_amount (0.000707)\n",
      "22. feature 2018001_avg_tran (0.000695)\n",
      "23. feature active_days (0.000555)\n",
      "24. feature 2017004_days (0.000464)\n",
      "25. feature 2018002_amount (0.000346)\n",
      "26. feature 2018002_days (0.000286)\n",
      "27. feature avg_transaction (0.000262)\n",
      "28. feature 2018002_avg_tran (0.000250)\n",
      "29. feature avg_amount (0.000142)\n"
     ]
    },
    {
     "data": {
      "image/png": "[encoded data removed]",
      "text/plain": [
       "<matplotlib.figure.Figure at 0xce1ee9e8>"
      ]
     },
     "metadata": {},
     "output_type": "display_data"
    }
   ],
   "source": [
    "importances = clf.feature_importances_\n",
    "std = np.std([tree.feature_importances_ for tree in clf.estimators_],\n",
    "             axis=0)\n",
    "indices = np.argsort(importances)[::-1]\n",
    "probabilities = clf.predict_proba(X_test)[:, 1]\n",
    "print(\"Feature ranking:\")\n",
    "\n",
    "for f in range(X_train.shape[1]):\n",
    "    print(\"%d. feature %s (%f)\" % (f + 1, X_train.columns[indices[f]], importances[indices[f]]))\n",
    "\n",
    "# Plot the feature importances of the forest\n",
    "plt.figure(figsize=(12,8))\n",
    "plt.title(\"Feature importances\")\n",
    "plt.bar(range(X_train.shape[1]), importances[indices],\n",
    "       color=\"r\", yerr=std[indices], align=\"center\")\n",
    "plt.xticks(range(X_train.shape[1]), indices)\n",
    "plt.xlim([-1, X_train.shape[1]])\n",
    "plt.xticks(rotation='vertical')\n",
    "plt.show()"
   ]
  },
  {
   "cell_type": "markdown",
   "metadata": {},
   "source": [
    "##### Below are important features which helps decide which accounts are in risk of churing.\n",
    "##### 1. feature days_seen_last_transaction (0.246365)\n",
    "##### 2. feature risky_by_last_activity (0.220689)\n",
    "##### 3. feature 2019001_days (0.110422)\n",
    "##### 4. feature 2019001_avg_tran (0.093649)\n",
    "##### 5. feature 2019001_amount (0.090252)\n",
    "\n",
    "\n",
    "##### So I belive we have found important features which can point out risky account. But the data is not sufficent to make predications. We need more data to relia on model prediction like demographic information, type of transactions, age of credit card etc."
   ]
  },
  {
   "cell_type": "markdown",
   "metadata": {},
   "source": [
    "## Unequel weightage model\n",
    "\n",
    "### features days since last activity(50%), decreasing trend per quarter for amount(25%) and decreasing trend per quarter for number of transacation(25%)\n"
   ]
  },
  {
   "cell_type": "code",
   "execution_count": 381,
   "metadata": {},
   "outputs": [],
   "source": [
    "model_df.drop([\"Churn_probability\"],inplace=True,axis=1)"
   ]
  },
  {
   "cell_type": "code",
   "execution_count": 382,
   "metadata": {},
   "outputs": [
    {
     "data": {
      "text/plain": [
       "0    7926\n",
       "1    2075\n",
       "dtype: int64"
      ]
     },
     "execution_count": 382,
     "metadata": {},
     "output_type": "execute_result"
    }
   ],
   "source": [
    "Treshold = 0.50\n",
    "model_df[\"total_weights\"] = model_df[\"risky_by_last_activity\"] * 0.5 + model_df[\"risky_by_avg_trans\"] * 0.25 +  model_df[\"risky_by_amount\"] * 0.25\n",
    "print model_df.head()\n",
    "target_unequel_Weight = model_df.apply(lambda x: 1 if x[\"total_weights\"] >= Treshold else 0,axis=1)\n",
    "\n",
    "target_unequel_Weight.value_counts()     "
   ]
  },
  {
   "cell_type": "code",
   "execution_count": 410,
   "metadata": {},
   "outputs": [
    {
     "name": "stdout",
     "output_type": "stream",
     "text": [
      "Training set has 8000 samples.\n",
      "Testing set has 2001 samples.\n"
     ]
    }
   ],
   "source": [
    "from sklearn.cross_validation import train_test_split\n",
    "\n",
    "# Split the 'features' and 'income' data into training and testing sets\n",
    "X_train, X_test, y_train, y_test = train_test_split(model_df, \n",
    "                                                    target_unequel_Weight, \n",
    "                                                    test_size = 0.2, \n",
    "                                                    random_state = 0)\n",
    "\n",
    "# Show the results of the split\n",
    "print \"Training set has {} samples.\".format(X_train.shape[0])\n",
    "print \"Testing set has {} samples.\".format(X_test.shape[0])"
   ]
  },
  {
   "cell_type": "code",
   "execution_count": 411,
   "metadata": {},
   "outputs": [
    {
     "name": "stdout",
     "output_type": "stream",
     "text": [
      "Test fscore with beta 0.5 :  0.975594800098\n",
      "LogisticRegressionCV trained on 80 samples.\n",
      "Test fscore with beta 0.5 :  0.981768908598\n",
      "LogisticRegressionCV trained on 800 samples.\n",
      "Test fscore with beta 0.5 :  0.984\n",
      "LogisticRegressionCV trained on 8000 samples.\n",
      "Test fscore with beta 0.5 :  0.961165048544\n",
      "KNeighborsClassifier trained on 80 samples.\n",
      "Test fscore with beta 0.5 :  0.957995578482\n",
      "KNeighborsClassifier trained on 800 samples.\n",
      "Test fscore with beta 0.5 :  0.960281238436\n",
      "KNeighborsClassifier trained on 8000 samples.\n",
      "Test fscore with beta 0.5 :  0.999754510863\n",
      "RandomForestClassifier trained on 80 samples.\n",
      "Test fscore with beta 0.5 :  1.0\n",
      "RandomForestClassifier trained on 800 samples.\n",
      "Test fscore with beta 0.5 :  1.0\n",
      "RandomForestClassifier trained on 8000 samples.\n"
     ]
    },
    {
     "data": {
      "image/png": "[encoded data removed]",
      "text/plain": [
       "<matplotlib.figure.Figure at 0xe1c18358>"
      ]
     },
     "metadata": {},
     "output_type": "display_data"
    }
   ],
   "source": [
    "from sklearn.ensemble import RandomForestClassifier\n",
    "from sklearn import linear_model\n",
    "from sklearn.neighbors import KNeighborsClassifier\n",
    "from sklearn.ensemble import AdaBoostClassifier\n",
    "from sklearn.tree import DecisionTreeClassifier\n",
    "from sklearn import svm\n",
    "# TODO: Initialize the three models\n",
    "clf_A =  linear_model.LogisticRegressionCV(solver='lbfgs',random_state=40)\n",
    "clf_B = KNeighborsClassifier()\n",
    "clf_C = RandomForestClassifier(random_state=40)\n",
    "#clf_D = RandomForestClassifier(random_state = 40)\n",
    "\n",
    "samples_100 = len(y_train)\n",
    "samples_10 = int(samples_100 * 0.1)\n",
    "samples_1 = int(samples_100 * 0.01)\n",
    "\n",
    "# Collect results on the learners\n",
    "results = {}\n",
    "for clf in [clf_A, clf_B, clf_C]:\n",
    "    clf_name = clf.__class__.__name__\n",
    "    results[clf_name] = {}\n",
    "    for i, samples in enumerate([samples_1,samples_10,samples_100]):\n",
    "        results[clf_name][i]=train_predict(clf, samples, X_train, y_train, X_test, y_test)\n",
    "\n",
    "vs.evaluate(results, accuracy, fscore)"
   ]
  },
  {
   "cell_type": "code",
   "execution_count": 412,
   "metadata": {},
   "outputs": [
    {
     "name": "stdout",
     "output_type": "stream",
     "text": [
      "Feature ranking:\n",
      "1. feature 2018004_avg_tran (0.208727)\n",
      "2. feature total_weights (0.197219)\n",
      "3. feature days_seen_last_transaction (0.151545)\n",
      "4. feature risky_by_last_activity (0.093938)\n",
      "5. feature 2019001_days (0.089488)\n",
      "6. feature 2019001_amount (0.080306)\n",
      "7. feature 2018004_days (0.075860)\n",
      "8. feature 2019001_avg_tran (0.065950)\n",
      "9. feature 2017004_amount (0.011936)\n",
      "10. feature 2017003_amount (0.009286)\n",
      "11. feature 2018004_amount (0.006573)\n",
      "12. feature 2018003_amount (0.003880)\n",
      "13. feature 2018003_days (0.002358)\n",
      "14. feature 2017004_avg_tran (0.000922)\n",
      "15. feature active_days (0.000451)\n",
      "16. feature 2018002_amount (0.000400)\n",
      "17. feature avg_amount (0.000317)\n",
      "18. feature 2018001_avg_tran (0.000302)\n",
      "19. feature 2018002_avg_tran (0.000165)\n",
      "20. feature 2018001_days (0.000123)\n",
      "21. feature 2017004_days (0.000105)\n",
      "22. feature risky_by_amount (0.000075)\n",
      "23. feature 2017003_days (0.000073)\n",
      "24. feature risky_by_active_days (0.000000)\n",
      "25. feature 2017003_avg_tran (0.000000)\n",
      "26. feature 2018003_avg_tran (0.000000)\n",
      "27. feature risky_by_avg_trans (0.000000)\n",
      "28. feature 2018001_amount (0.000000)\n",
      "29. feature 2018002_days (0.000000)\n",
      "30. feature avg_transaction (0.000000)\n"
     ]
    },
    {
     "data": {
      "image/png": "[encoded data removed]",
      "text/plain": [
       "<matplotlib.figure.Figure at 0xe2368e80>"
      ]
     },
     "metadata": {},
     "output_type": "display_data"
    }
   ],
   "source": [
    "clf = clf_C\n",
    "importances = clf.feature_importances_\n",
    "std = np.std([tree.feature_importances_ for tree in clf.estimators_],\n",
    "             axis=0)\n",
    "indices = np.argsort(importances)[::-1]\n",
    "probabilities = clf.predict_proba(X_test)[:, 1]\n",
    "print(\"Feature ranking:\")\n",
    "\n",
    "for f in range(X_train.shape[1]):\n",
    "    print(\"%d. feature %s (%f)\" % (f + 1, X_train.columns[indices[f]], importances[indices[f]]))\n",
    "\n",
    "# Plot the feature importances of the forest\n",
    "plt.figure(figsize=(12,8))\n",
    "plt.title(\"Feature importances\")\n",
    "plt.bar(range(X_train.shape[1]), importances[indices],\n",
    "       color=\"r\", yerr=std[indices], align=\"center\")\n",
    "plt.xticks(range(X_train.shape[1]), indices)\n",
    "plt.xlim([-1, X_train.shape[1]])\n",
    "plt.xticks(rotation='vertical')\n",
    "plt.show()"
   ]
  },
  {
   "cell_type": "markdown",
   "metadata": {},
   "source": [
    "#### Below are important features which helps decide which accounts are in risk of churing.¶\n",
    "#### 1. feature 2018004_avg_tran (0.208727)\n",
    "#### 2. feature total_weights (0.197219)\n",
    "#### 3. feature days_seen_last_transaction (0.151545)\n",
    "#### 4. feature risky_by_last_activity (0.093938)\n",
    "#### 5. feature 2019001_days (0.089488)\n",
    "##### So I believe we have found important features which can point out risky account. But the data is not sufficient to make predications. We need more data to rely on model prediction like demographic information, type of transactions, age of credit card etc"
   ]
  },
  {
   "cell_type": "markdown",
   "metadata": {},
   "source": [
    "### ROC curve to check model accuracy "
   ]
  },
  {
   "cell_type": "code",
   "execution_count": 413,
   "metadata": {},
   "outputs": [
    {
     "data": {
      "image/png": "[encoded data removed]",
      "text/plain": [
       "<matplotlib.figure.Figure at 0xe24da908>"
      ]
     },
     "metadata": {},
     "output_type": "display_data"
    }
   ],
   "source": [
    "probabilities = clf.predict_proba(X_test)[:, 1]\n",
    "fpr, tpr, threshold = metrics.roc_curve(y_test, probabilities)\n",
    "roc_auc = metrics.auc(fpr, tpr)\n",
    "\n",
    "import matplotlib.pyplot as plt\n",
    "plt.title('Receiver Operating Characteristic')\n",
    "plt.plot(fpr, tpr, 'b', label = 'AUC = %0.2f' % roc_auc)\n",
    "plt.legend(loc = 'lower right')\n",
    "plt.plot([0, 1], [0, 1],'r--')\n",
    "plt.xlim([0, 1])\n",
    "plt.ylim([0, 1])\n",
    "plt.ylabel('True Positive Rate')\n",
    "plt.xlabel('False Positive Rate')\n",
    "plt.show()"
   ]
  },
  {
   "cell_type": "markdown",
   "metadata": {},
   "source": [
    "##### With unequel weightage model we are getting perfect score of 1.0 on randomforest model. So model tuning not needed for this."
   ]
  },
  {
   "cell_type": "code",
   "execution_count": 388,
   "metadata": {},
   "outputs": [],
   "source": [
    "import pickle\n",
    "filename= \"RandomForest_unweighted_model.sav\"\n",
    "pickle.dump(clf,open(filename,\"wb\"))"
   ]
  },
  {
   "cell_type": "code",
   "execution_count": 401,
   "metadata": {},
   "outputs": [
    {
     "data": {
      "text/html": [
       "<div>\n",
       "<style>\n",
       "    .dataframe thead tr:only-child th {\n",
       "        text-align: right;\n",
       "    }\n",
       "\n",
       "    .dataframe thead th {\n",
       "        text-align: left;\n",
       "    }\n",
       "\n",
       "    .dataframe tbody tr th {\n",
       "        vertical-align: top;\n",
       "    }\n",
       "</style>\n",
       "<table border=\"1\" class=\"dataframe\">\n",
       "  <thead>\n",
       "    <tr style=\"text-align: right;\">\n",
       "      <th></th>\n",
       "      <th>account</th>\n",
       "      <th>target</th>\n",
       "    </tr>\n",
       "  </thead>\n",
       "  <tbody>\n",
       "    <tr>\n",
       "      <th>0</th>\n",
       "      <td>00023fda963eb48839a670cbdf74cd21</td>\n",
       "      <td>0</td>\n",
       "    </tr>\n",
       "    <tr>\n",
       "      <th>1</th>\n",
       "      <td>000458145e8ff76fb2907417d806d098</td>\n",
       "      <td>0</td>\n",
       "    </tr>\n",
       "    <tr>\n",
       "      <th>2</th>\n",
       "      <td>000b2159adf33dcb44291291e0575122</td>\n",
       "      <td>1</td>\n",
       "    </tr>\n",
       "    <tr>\n",
       "      <th>3</th>\n",
       "      <td>000cff3bf5b20e8bb5734eb0aeef6673</td>\n",
       "      <td>0</td>\n",
       "    </tr>\n",
       "    <tr>\n",
       "      <th>4</th>\n",
       "      <td>000f6054933c882efb96bc34b91c8924</td>\n",
       "      <td>0</td>\n",
       "    </tr>\n",
       "  </tbody>\n",
       "</table>\n",
       "</div>"
      ],
      "text/plain": [
       "                            account  target\n",
       "0  00023fda963eb48839a670cbdf74cd21       0\n",
       "1  000458145e8ff76fb2907417d806d098       0\n",
       "2  000b2159adf33dcb44291291e0575122       1\n",
       "3  000cff3bf5b20e8bb5734eb0aeef6673       0\n",
       "4  000f6054933c882efb96bc34b91c8924       0"
      ]
     },
     "execution_count": 401,
     "metadata": {},
     "output_type": "execute_result"
    }
   ],
   "source": [
    "filename= \"risky_account.csv\"\n",
    "target.reset_index()\n",
    "target = pd.DataFrame(target).reset_index()\n",
    "target.head()\n",
    "target[target[\"target\"] > 0][\"account\"].to_csv(filename)"
   ]
  }
 ],
 "metadata": {
  "kernelspec": {
   "display_name": "Python 2",
   "language": "python",
   "name": "python2"
  },
  "language_info": {
   "codemirror_mode": {
    "name": "ipython",
    "version": 2
   },
   "file_extension": ".py",
   "mimetype": "text/x-python",
   "name": "python",
   "nbconvert_exporter": "python",
   "pygments_lexer": "ipython2",
   "version": "2.7.14"
  }
 },
 "nbformat": 4,
 "nbformat_minor": 2
}
